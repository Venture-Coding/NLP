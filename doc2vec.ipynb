{
  "nbformat": 4,
  "nbformat_minor": 0,
  "metadata": {
    "kernelspec": {
      "display_name": "Python 3",
      "language": "python",
      "name": "python3"
    },
    "language_info": {
      "codemirror_mode": {
        "name": "ipython",
        "version": 3
      },
      "file_extension": ".py",
      "mimetype": "text/x-python",
      "name": "python",
      "nbconvert_exporter": "python",
      "pygments_lexer": "ipython3",
      "version": "3.6.2"
    },
    "colab": {
      "name": "doc2vec.ipynb",
      "provenance": [],
      "include_colab_link": true
    }
  },
  "cells": [
    {
      "cell_type": "markdown",
      "metadata": {
        "id": "view-in-github",
        "colab_type": "text"
      },
      "source": [
        "<a href=\"https://colab.research.google.com/github/Venture-Coding/Linkedin_Learning/blob/main/NLP/doc2vec.ipynb\" target=\"_parent\"><img src=\"https://colab.research.google.com/assets/colab-badge.svg\" alt=\"Open In Colab\"/></a>"
      ]
    },
    {
      "cell_type": "markdown",
      "metadata": {
        "id": "G04BZ-iIjYtI"
      },
      "source": [
        "# doc2vec: Prep Document Vectors For Modeling"
      ]
    },
    {
      "cell_type": "markdown",
      "metadata": {
        "id": "3kg2EIKhjYtJ"
      },
      "source": [
        "### Train Our Own Model"
      ]
    },
    {
      "cell_type": "code",
      "metadata": {
        "colab": {
          "base_uri": "https://localhost:8080/",
          "height": 306
        },
        "id": "cfTzeV9FjYtK",
        "outputId": "865af413-c880-4356-da59-82514c4e18ca"
      },
      "source": [
        "# Read in data, clean it, split it into train/test, and then train a doc2vec model\n",
        "import gensim\n",
        "import pandas as pd\n",
        "from sklearn.model_selection import train_test_split\n",
        "pd.set_option('display.max_colwidth', 100)\n",
        "\n",
        "messages = pd.read_csv('spam.csv', encoding='latin-1')\n",
        "messages.head()"
      ],
      "execution_count": 1,
      "outputs": [
        {
          "output_type": "execute_result",
          "data": {
            "text/html": [
              "<div>\n",
              "<style scoped>\n",
              "    .dataframe tbody tr th:only-of-type {\n",
              "        vertical-align: middle;\n",
              "    }\n",
              "\n",
              "    .dataframe tbody tr th {\n",
              "        vertical-align: top;\n",
              "    }\n",
              "\n",
              "    .dataframe thead th {\n",
              "        text-align: right;\n",
              "    }\n",
              "</style>\n",
              "<table border=\"1\" class=\"dataframe\">\n",
              "  <thead>\n",
              "    <tr style=\"text-align: right;\">\n",
              "      <th></th>\n",
              "      <th>v1</th>\n",
              "      <th>v2</th>\n",
              "      <th>Unnamed: 2</th>\n",
              "      <th>Unnamed: 3</th>\n",
              "      <th>Unnamed: 4</th>\n",
              "    </tr>\n",
              "  </thead>\n",
              "  <tbody>\n",
              "    <tr>\n",
              "      <th>0</th>\n",
              "      <td>ham</td>\n",
              "      <td>Go until jurong point, crazy.. Available only in bugis n great world la e buffet... Cine there g...</td>\n",
              "      <td>NaN</td>\n",
              "      <td>NaN</td>\n",
              "      <td>NaN</td>\n",
              "    </tr>\n",
              "    <tr>\n",
              "      <th>1</th>\n",
              "      <td>ham</td>\n",
              "      <td>Ok lar... Joking wif u oni...</td>\n",
              "      <td>NaN</td>\n",
              "      <td>NaN</td>\n",
              "      <td>NaN</td>\n",
              "    </tr>\n",
              "    <tr>\n",
              "      <th>2</th>\n",
              "      <td>spam</td>\n",
              "      <td>Free entry in 2 a wkly comp to win FA Cup final tkts 21st May 2005. Text FA to 87121 to receive ...</td>\n",
              "      <td>NaN</td>\n",
              "      <td>NaN</td>\n",
              "      <td>NaN</td>\n",
              "    </tr>\n",
              "    <tr>\n",
              "      <th>3</th>\n",
              "      <td>ham</td>\n",
              "      <td>U dun say so early hor... U c already then say...</td>\n",
              "      <td>NaN</td>\n",
              "      <td>NaN</td>\n",
              "      <td>NaN</td>\n",
              "    </tr>\n",
              "    <tr>\n",
              "      <th>4</th>\n",
              "      <td>ham</td>\n",
              "      <td>Nah I don't think he goes to usf, he lives around here though</td>\n",
              "      <td>NaN</td>\n",
              "      <td>NaN</td>\n",
              "      <td>NaN</td>\n",
              "    </tr>\n",
              "  </tbody>\n",
              "</table>\n",
              "</div>"
            ],
            "text/plain": [
              "     v1  ... Unnamed: 4\n",
              "0   ham  ...        NaN\n",
              "1   ham  ...        NaN\n",
              "2  spam  ...        NaN\n",
              "3   ham  ...        NaN\n",
              "4   ham  ...        NaN\n",
              "\n",
              "[5 rows x 5 columns]"
            ]
          },
          "metadata": {},
          "execution_count": 1
        }
      ]
    },
    {
      "cell_type": "code",
      "metadata": {
        "id": "DHoERf9vjmOr"
      },
      "source": [
        "messages = messages.drop(labels = [\"Unnamed: 2\", \"Unnamed: 3\", \"Unnamed: 4\"], axis = 1)\n",
        "messages.columns = [\"label\", \"text\"]\n",
        "messages['text_clean'] = messages['text'].apply(lambda x: gensim.utils.simple_preprocess(x))\n",
        "\n",
        "X_train, X_test, y_train, y_test = train_test_split(messages['text_clean'],\n",
        "                                                    messages['label'], test_size=0.2)\n",
        "\n",
        "tagged_docs_tr = [gensim.models.doc2vec.TaggedDocument(v, [i]) for i, v in enumerate(X_train)]\n",
        "\n",
        "d2v_model = gensim.models.Doc2Vec(tagged_docs_tr,\n",
        "                                  vector_size=50,\n",
        "                                  window=2,\n",
        "                                  min_count=2)"
      ],
      "execution_count": 2,
      "outputs": []
    },
    {
      "cell_type": "code",
      "metadata": {
        "colab": {
          "base_uri": "https://localhost:8080/"
        },
        "id": "n4nRSAeEjYtN",
        "outputId": "181401df-71cb-4f9d-9c36-f6ee2887af9e"
      },
      "source": [
        "# What does a document vector look like again?\n",
        "d2v_model.infer_vector(['convert', 'words', 'to', 'vectors'])"
      ],
      "execution_count": 3,
      "outputs": [
        {
          "output_type": "execute_result",
          "data": {
            "text/plain": [
              "array([-0.00412556,  0.01186739, -0.01328432,  0.0120802 ,  0.01250968,\n",
              "       -0.00693019,  0.00597198,  0.01932476,  0.01145053, -0.00652549,\n",
              "        0.01859386,  0.0086034 ,  0.00553505,  0.00817771, -0.01272245,\n",
              "        0.00758645, -0.00031357,  0.009814  , -0.00713333, -0.0105396 ,\n",
              "       -0.0022726 ,  0.01486406,  0.00603506,  0.00583262,  0.00992863,\n",
              "       -0.0027992 , -0.00962885, -0.00443396,  0.01463754, -0.00441251,\n",
              "        0.00905803, -0.01508413, -0.01684954, -0.00693312, -0.00899978,\n",
              "       -0.00354817, -0.00183986, -0.00364084, -0.01269242, -0.01931383,\n",
              "       -0.00709434, -0.02532249, -0.00351395,  0.01385808, -0.01524033,\n",
              "       -0.00355795,  0.0175324 ,  0.001019  ,  0.00845837, -0.00021805],\n",
              "      dtype=float32)"
            ]
          },
          "metadata": {},
          "execution_count": 3
        }
      ]
    },
    {
      "cell_type": "code",
      "metadata": {
        "id": "ZVt19IPcjYtR"
      },
      "source": [
        "# How do we prepare these vectors to be used in a machine learning model?\n",
        "vectors = [[d2v_model.infer_vector(words)] for words in X_test]"
      ],
      "execution_count": 4,
      "outputs": []
    },
    {
      "cell_type": "code",
      "metadata": {
        "colab": {
          "base_uri": "https://localhost:8080/"
        },
        "id": "Ot5DoLqNjYtR",
        "outputId": "43d51f69-c368-4b22-cd42-ae5df57a152d"
      },
      "source": [
        "vectors[0]"
      ],
      "execution_count": 5,
      "outputs": [
        {
          "output_type": "execute_result",
          "data": {
            "text/plain": [
              "[array([ 0.0208026 ,  0.11048983, -0.01253386,  0.04126347,  0.01871553,\n",
              "        -0.00270041,  0.03049139,  0.08216374,  0.01014216, -0.01790841,\n",
              "         0.07473028,  0.01102621, -0.01920313,  0.01651726, -0.031496  ,\n",
              "        -0.00206541,  0.02457395,  0.04318288, -0.00089882, -0.10173186,\n",
              "        -0.01984756,  0.04450674,  0.00857184, -0.00938395,  0.01071824,\n",
              "         0.0023073 , -0.06346518,  0.00948959,  0.08795197, -0.00359903,\n",
              "         0.06724188, -0.06668112, -0.07647999, -0.00305523,  0.00206878,\n",
              "        -0.02936345, -0.0154579 , -0.00300377, -0.05961602, -0.14162768,\n",
              "         0.01364166, -0.08451587, -0.0202428 ,  0.03441074, -0.02783517,\n",
              "         0.02623395,  0.07394551, -0.02555393,  0.04044015,  0.03027109],\n",
              "       dtype=float32)]"
            ]
          },
          "metadata": {},
          "execution_count": 5
        }
      ]
    },
    {
      "cell_type": "code",
      "metadata": {
        "id": "YD3Zcqc5jYtS"
      },
      "source": [
        ""
      ],
      "execution_count": 5,
      "outputs": []
    }
  ]
}