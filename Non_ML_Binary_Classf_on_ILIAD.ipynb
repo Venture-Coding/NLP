{
  "nbformat": 4,
  "nbformat_minor": 0,
  "metadata": {
    "file_extension": ".py",
    "kernelspec": {
      "display_name": "Python 3",
      "language": "python",
      "name": "python3"
    },
    "language_info": {
      "codemirror_mode": {
        "name": "ipython",
        "version": 3
      },
      "file_extension": ".py",
      "mimetype": "text/x-python",
      "name": "python",
      "nbconvert_exporter": "python",
      "pygments_lexer": "ipython3",
      "version": "3.7.9"
    },
    "mimetype": "text/x-python",
    "name": "python",
    "npconvert_exporter": "python",
    "pygments_lexer": "ipython3",
    "version": 3,
    "colab": {
      "name": "Non ML Binary Classf on ILIAD.ipynb",
      "provenance": []
    }
  },
  "cells": [
    {
      "cell_type": "markdown",
      "metadata": {
        "id": "wSYxGrPXOP-l"
      },
      "source": [
        "# Binary Classification of ILIAD'S Sentiment\n",
        "\n",
        "**Course:** Data Science Foundations: Data Mining in Python"
      ]
    },
    {
      "cell_type": "markdown",
      "metadata": {
        "id": "rn3PmFq8OP-s"
      },
      "source": [
        "### Install & Import Lib\n",
        "\n",
        "The Python library `nltk`, for \"Natural Language Toolkit,\" contains most of the functions we need for text mining. NLTK can be installed with Python's `pip` command. This command only needs to be done once per machine.\n",
        "\n",
        "The standard, shorter approach may work:"
      ]
    },
    {
      "cell_type": "code",
      "metadata": {
        "scrolled": true,
        "colab": {
          "base_uri": "https://localhost:8080/"
        },
        "id": "1ijcAk74OP-u",
        "outputId": "a326d787-00c8-4472-ccd2-54233e9d7f33"
      },
      "source": [
        "pip install nltk"
      ],
      "execution_count": 30,
      "outputs": [
        {
          "output_type": "stream",
          "name": "stdout",
          "text": [
            "Requirement already satisfied: nltk in /usr/local/lib/python3.7/dist-packages (3.2.5)\n",
            "Requirement already satisfied: six in /usr/local/lib/python3.7/dist-packages (from nltk) (1.15.0)\n"
          ]
        }
      ]
    },
    {
      "cell_type": "markdown",
      "metadata": {
        "id": "UznOpm0SOP-w"
      },
      "source": [
        "If the above command didn't work, it may be necessary to be more explicit, in which case you could run the code below."
      ]
    },
    {
      "cell_type": "code",
      "metadata": {
        "id": "6VkwkdHEOP-x"
      },
      "source": [
        "# import sys\n",
        "#!{sys.executable} -m pip install nltk"
      ],
      "execution_count": 31,
      "outputs": []
    },
    {
      "cell_type": "markdown",
      "metadata": {
        "id": "MaPr7EqCOP-y"
      },
      "source": [
        "Once `nltk` is installed, then load the libraries and data below."
      ]
    },
    {
      "cell_type": "code",
      "metadata": {
        "scrolled": true,
        "id": "XW2vwwNVOP-z"
      },
      "source": [
        "# Import libraries\n",
        "import re  # For regular expressions\n",
        "import nltk  # For text functions\n",
        "import matplotlib.pyplot as plt  # For plotting\n",
        "import pandas as pd  # For dataframes\n",
        "\n",
        "# Import corpora and functions from NLTK\n",
        "from nltk.corpus import stopwords\n",
        "from nltk.corpus import opinion_lexicon  #for classifying\n",
        "from nltk.tokenize import word_tokenize  #for tokenizing sents to words\n",
        "\n",
        "# Download data for NLTK, quiet is True to prevent terminal o/p\n",
        "nltk.download('stopwords', quiet=True)\n",
        "nltk.download('opinion_lexicon', quiet=True)\n",
        "nltk.download('punkt', quiet=True)\n",
        "\n",
        "# Use Matplotlib style sheet\n",
        "plt.style.use('ggplot')"
      ],
      "execution_count": 32,
      "outputs": []
    },
    {
      "cell_type": "markdown",
      "metadata": {
        "id": "8Jn_JuGlOP-0"
      },
      "source": [
        "### IMPORT DATA"
      ]
    },
    {
      "cell_type": "code",
      "metadata": {
        "colab": {
          "base_uri": "https://localhost:8080/",
          "height": 359
        },
        "id": "CLIwGoKsOP-2",
        "outputId": "4c2ed5cb-ca33-4eeb-b0fb-fdedfdee61f0"
      },
      "source": [
        "df = pd.read_csv('Iliad.txt',sep='\\t').dropna().drop('gutenberg_id', 1) #each new line is a new row\n",
        "\n",
        "df.head(10)"
      ],
      "execution_count": 33,
      "outputs": [
        {
          "output_type": "execute_result",
          "data": {
            "text/html": [
              "<div>\n",
              "<style scoped>\n",
              "    .dataframe tbody tr th:only-of-type {\n",
              "        vertical-align: middle;\n",
              "    }\n",
              "\n",
              "    .dataframe tbody tr th {\n",
              "        vertical-align: top;\n",
              "    }\n",
              "\n",
              "    .dataframe thead th {\n",
              "        text-align: right;\n",
              "    }\n",
              "</style>\n",
              "<table border=\"1\" class=\"dataframe\">\n",
              "  <thead>\n",
              "    <tr style=\"text-align: right;\">\n",
              "      <th></th>\n",
              "      <th>text</th>\n",
              "    </tr>\n",
              "  </thead>\n",
              "  <tbody>\n",
              "    <tr>\n",
              "      <th>0</th>\n",
              "      <td>THE ILIAD OF HOMER</td>\n",
              "    </tr>\n",
              "    <tr>\n",
              "      <th>2</th>\n",
              "      <td>RENDERED INTO ENGLISH BLANK VERSE.</td>\n",
              "    </tr>\n",
              "    <tr>\n",
              "      <th>3</th>\n",
              "      <td>BY</td>\n",
              "    </tr>\n",
              "    <tr>\n",
              "      <th>5</th>\n",
              "      <td>EDWARD EARL OF DERBY.</td>\n",
              "    </tr>\n",
              "    <tr>\n",
              "      <th>10</th>\n",
              "      <td>PREFACE.</td>\n",
              "    </tr>\n",
              "    <tr>\n",
              "      <th>13</th>\n",
              "      <td>In the spring of 1862 I was induced, at the re...</td>\n",
              "    </tr>\n",
              "    <tr>\n",
              "      <th>14</th>\n",
              "      <td>friends, to print, for private circulation onl...</td>\n",
              "    </tr>\n",
              "    <tr>\n",
              "      <th>15</th>\n",
              "      <td>\"Translations of Poems Ancient and Modern,\" in...</td>\n",
              "    </tr>\n",
              "    <tr>\n",
              "      <th>16</th>\n",
              "      <td>first Book of the Iliad. The opinions expresse...</td>\n",
              "    </tr>\n",
              "    <tr>\n",
              "      <th>17</th>\n",
              "      <td>judges of the degree of success which had atte...</td>\n",
              "    </tr>\n",
              "  </tbody>\n",
              "</table>\n",
              "</div>"
            ],
            "text/plain": [
              "                                                 text\n",
              "0                                  THE ILIAD OF HOMER\n",
              "2                  RENDERED INTO ENGLISH BLANK VERSE.\n",
              "3                                                  BY\n",
              "5                               EDWARD EARL OF DERBY.\n",
              "10                                           PREFACE.\n",
              "13  In the spring of 1862 I was induced, at the re...\n",
              "14  friends, to print, for private circulation onl...\n",
              "15  \"Translations of Poems Ancient and Modern,\" in...\n",
              "16  first Book of the Iliad. The opinions expresse...\n",
              "17  judges of the degree of success which had atte..."
            ]
          },
          "metadata": {},
          "execution_count": 33
        }
      ]
    },
    {
      "cell_type": "markdown",
      "metadata": {
        "id": "QjJfz4tMOP-3"
      },
      "source": [
        "## Data Prep\n",
        "\n",
        "\n",
        "### Tokenize the Data\n",
        "\n",
        "- A \"token\" is the level of analysis for text mining.\n",
        "- In this case, the tokens will be individual words, which is most common, but tokens can also be pairs or triplets of words, sentences, and so on.\n",
        "- In the tokenization process, it is common to standardize capitalization and remove non-word characters."
      ]
    },
    {
      "cell_type": "code",
      "metadata": {
        "colab": {
          "base_uri": "https://localhost:8080/",
          "height": 204
        },
        "id": "AxbTjWBqOP-4",
        "outputId": "d35ec423-d99f-4584-8fe4-e52c1e71c3a0"
      },
      "source": [
        "def clean_text(text):\n",
        "    text = text.lower()  # Convert all text to lowercase\n",
        "    text = text.replace(\"'\", '')\n",
        "    text = re.sub(r'[^\\w]', ' ', text)  # Leave only word characters\n",
        "    text = re.sub(r'\\s+', ' ', text)  # Omit extra space characters\n",
        "    text = text.strip() #get only the text\n",
        "    return text\n",
        "\n",
        "df['text'] = df['text'].map(clean_text) \n",
        "df.head()"
      ],
      "execution_count": 34,
      "outputs": [
        {
          "output_type": "execute_result",
          "data": {
            "text/html": [
              "<div>\n",
              "<style scoped>\n",
              "    .dataframe tbody tr th:only-of-type {\n",
              "        vertical-align: middle;\n",
              "    }\n",
              "\n",
              "    .dataframe tbody tr th {\n",
              "        vertical-align: top;\n",
              "    }\n",
              "\n",
              "    .dataframe thead th {\n",
              "        text-align: right;\n",
              "    }\n",
              "</style>\n",
              "<table border=\"1\" class=\"dataframe\">\n",
              "  <thead>\n",
              "    <tr style=\"text-align: right;\">\n",
              "      <th></th>\n",
              "      <th>text</th>\n",
              "    </tr>\n",
              "  </thead>\n",
              "  <tbody>\n",
              "    <tr>\n",
              "      <th>0</th>\n",
              "      <td>the iliad of homer</td>\n",
              "    </tr>\n",
              "    <tr>\n",
              "      <th>2</th>\n",
              "      <td>rendered into english blank verse</td>\n",
              "    </tr>\n",
              "    <tr>\n",
              "      <th>3</th>\n",
              "      <td>by</td>\n",
              "    </tr>\n",
              "    <tr>\n",
              "      <th>5</th>\n",
              "      <td>edward earl of derby</td>\n",
              "    </tr>\n",
              "    <tr>\n",
              "      <th>10</th>\n",
              "      <td>preface</td>\n",
              "    </tr>\n",
              "  </tbody>\n",
              "</table>\n",
              "</div>"
            ],
            "text/plain": [
              "                                 text\n",
              "0                  the iliad of homer\n",
              "2   rendered into english blank verse\n",
              "3                                  by\n",
              "5                edward earl of derby\n",
              "10                            preface"
            ]
          },
          "metadata": {},
          "execution_count": 34
        }
      ]
    },
    {
      "cell_type": "code",
      "metadata": {
        "colab": {
          "base_uri": "https://localhost:8080/",
          "height": 204
        },
        "id": "qD9M7uSFPtwj",
        "outputId": "01f0bf1a-3f45-4668-b7f8-de403234bf87"
      },
      "source": [
        "df['text'] = df['text'].map(word_tokenize) # Split text into word tokens\n",
        "df.head()"
      ],
      "execution_count": 35,
      "outputs": [
        {
          "output_type": "execute_result",
          "data": {
            "text/html": [
              "<div>\n",
              "<style scoped>\n",
              "    .dataframe tbody tr th:only-of-type {\n",
              "        vertical-align: middle;\n",
              "    }\n",
              "\n",
              "    .dataframe tbody tr th {\n",
              "        vertical-align: top;\n",
              "    }\n",
              "\n",
              "    .dataframe thead th {\n",
              "        text-align: right;\n",
              "    }\n",
              "</style>\n",
              "<table border=\"1\" class=\"dataframe\">\n",
              "  <thead>\n",
              "    <tr style=\"text-align: right;\">\n",
              "      <th></th>\n",
              "      <th>text</th>\n",
              "    </tr>\n",
              "  </thead>\n",
              "  <tbody>\n",
              "    <tr>\n",
              "      <th>0</th>\n",
              "      <td>[the, iliad, of, homer]</td>\n",
              "    </tr>\n",
              "    <tr>\n",
              "      <th>2</th>\n",
              "      <td>[rendered, into, english, blank, verse]</td>\n",
              "    </tr>\n",
              "    <tr>\n",
              "      <th>3</th>\n",
              "      <td>[by]</td>\n",
              "    </tr>\n",
              "    <tr>\n",
              "      <th>5</th>\n",
              "      <td>[edward, earl, of, derby]</td>\n",
              "    </tr>\n",
              "    <tr>\n",
              "      <th>10</th>\n",
              "      <td>[preface]</td>\n",
              "    </tr>\n",
              "  </tbody>\n",
              "</table>\n",
              "</div>"
            ],
            "text/plain": [
              "                                       text\n",
              "0                   [the, iliad, of, homer]\n",
              "2   [rendered, into, english, blank, verse]\n",
              "3                                      [by]\n",
              "5                 [edward, earl, of, derby]\n",
              "10                                [preface]"
            ]
          },
          "metadata": {},
          "execution_count": 35
        }
      ]
    },
    {
      "cell_type": "markdown",
      "metadata": {
        "id": "Y7h6urntOP-4"
      },
      "source": [
        "### Collect Tokens into a Single Series"
      ]
    },
    {
      "cell_type": "code",
      "metadata": {
        "colab": {
          "base_uri": "https://localhost:8080/",
          "height": 359
        },
        "id": "H-zoSYwNOP-5",
        "outputId": "26f27926-8378-457f-b376-ac93aaa6f0df"
      },
      "source": [
        "df = df.text.explode().to_frame('token')\n",
        "df.head(10)"
      ],
      "execution_count": 36,
      "outputs": [
        {
          "output_type": "execute_result",
          "data": {
            "text/html": [
              "<div>\n",
              "<style scoped>\n",
              "    .dataframe tbody tr th:only-of-type {\n",
              "        vertical-align: middle;\n",
              "    }\n",
              "\n",
              "    .dataframe tbody tr th {\n",
              "        vertical-align: top;\n",
              "    }\n",
              "\n",
              "    .dataframe thead th {\n",
              "        text-align: right;\n",
              "    }\n",
              "</style>\n",
              "<table border=\"1\" class=\"dataframe\">\n",
              "  <thead>\n",
              "    <tr style=\"text-align: right;\">\n",
              "      <th></th>\n",
              "      <th>token</th>\n",
              "    </tr>\n",
              "  </thead>\n",
              "  <tbody>\n",
              "    <tr>\n",
              "      <th>0</th>\n",
              "      <td>the</td>\n",
              "    </tr>\n",
              "    <tr>\n",
              "      <th>0</th>\n",
              "      <td>iliad</td>\n",
              "    </tr>\n",
              "    <tr>\n",
              "      <th>0</th>\n",
              "      <td>of</td>\n",
              "    </tr>\n",
              "    <tr>\n",
              "      <th>0</th>\n",
              "      <td>homer</td>\n",
              "    </tr>\n",
              "    <tr>\n",
              "      <th>2</th>\n",
              "      <td>rendered</td>\n",
              "    </tr>\n",
              "    <tr>\n",
              "      <th>2</th>\n",
              "      <td>into</td>\n",
              "    </tr>\n",
              "    <tr>\n",
              "      <th>2</th>\n",
              "      <td>english</td>\n",
              "    </tr>\n",
              "    <tr>\n",
              "      <th>2</th>\n",
              "      <td>blank</td>\n",
              "    </tr>\n",
              "    <tr>\n",
              "      <th>2</th>\n",
              "      <td>verse</td>\n",
              "    </tr>\n",
              "    <tr>\n",
              "      <th>3</th>\n",
              "      <td>by</td>\n",
              "    </tr>\n",
              "  </tbody>\n",
              "</table>\n",
              "</div>"
            ],
            "text/plain": [
              "      token\n",
              "0       the\n",
              "0     iliad\n",
              "0        of\n",
              "0     homer\n",
              "2  rendered\n",
              "2      into\n",
              "2   english\n",
              "2     blank\n",
              "2     verse\n",
              "3        by"
            ]
          },
          "metadata": {},
          "execution_count": 36
        }
      ]
    },
    {
      "cell_type": "markdown",
      "metadata": {
        "id": "e7kbN5lXOP-5"
      },
      "source": [
        "### Sort Tokens by Frequency"
      ]
    },
    {
      "cell_type": "code",
      "metadata": {
        "colab": {
          "base_uri": "https://localhost:8080/"
        },
        "id": "0NJpnyPgOP-6",
        "outputId": "e78e1337-6ca2-4829-c72b-b48da427028e"
      },
      "source": [
        "df.token.value_counts().head(10)"
      ],
      "execution_count": 37,
      "outputs": [
        {
          "output_type": "execute_result",
          "data": {
            "text/plain": [
              "the     9901\n",
              "and     5541\n",
              "of      3947\n",
              "to      3558\n",
              "his     2840\n",
              "in      2409\n",
              "he      2017\n",
              "with    1947\n",
              "from    1256\n",
              "a       1247\n",
              "Name: token, dtype: int64"
            ]
          },
          "metadata": {},
          "execution_count": 37
        }
      ]
    },
    {
      "cell_type": "markdown",
      "metadata": {
        "id": "ln2ZQ6b2OP-6"
      },
      "source": [
        "### Remove Stop Words\n",
        "\n",
        "- Stop words are common words such as \"the,\" \"and\", and \"a\" that may interfere with the semantic analysis of text.\n",
        "- It is common to use a lexicon or established list of stop words.\n",
        "- However, different stop word lexicons may process text differently.\n",
        "- It is also possible to add specific words to a custom stop word list."
      ]
    },
    {
      "cell_type": "code",
      "metadata": {
        "id": "rXywTQUyOP-7"
      },
      "source": [
        "stopwords = set(stopwords.words('english')) # load stopwords\n",
        "\n",
        "df = df[~df.token.isin(stopwords)]"
      ],
      "execution_count": 38,
      "outputs": []
    },
    {
      "cell_type": "markdown",
      "metadata": {
        "id": "OYPzOqHrOP-8"
      },
      "source": [
        "### Sort Revised Tokens by Frequency"
      ]
    },
    {
      "cell_type": "code",
      "metadata": {
        "colab": {
          "base_uri": "https://localhost:8080/"
        },
        "id": "Nn5noH13OP-8",
        "outputId": "5538ca6c-81a1-4e1d-bf42-f5bd4c2603a9"
      },
      "source": [
        "df.token.value_counts().head(10)"
      ],
      "execution_count": 39,
      "outputs": [
        {
          "output_type": "execute_result",
          "data": {
            "text/plain": [
              "son         867\n",
              "thou        756\n",
              "thus        731\n",
              "thy         688\n",
              "greeks      529\n",
              "achilles    445\n",
              "hector      429\n",
              "ships       423\n",
              "thee        421\n",
              "th          396\n",
              "Name: token, dtype: int64"
            ]
          },
          "metadata": {},
          "execution_count": 39
        }
      ]
    },
    {
      "cell_type": "markdown",
      "metadata": {
        "id": "jJlLU1OJQa0K"
      },
      "source": [
        "We can see a lot of thou, thy, thee, which is relevant to this archaic novel."
      ]
    },
    {
      "cell_type": "markdown",
      "metadata": {
        "id": "gbK1ZtZqOP-8"
      },
      "source": [
        "## Classify Sentiments\n",
        "\n",
        "### Identify Valenced Words with the \"Opinion\" Lexicon"
      ]
    },
    {
      "cell_type": "code",
      "metadata": {
        "colab": {
          "base_uri": "https://localhost:8080/",
          "height": 359
        },
        "id": "7Ue3-pt3OP-9",
        "outputId": "d5f83fd5-4f6f-443a-96a5-78fd4334d749"
      },
      "source": [
        "sentiment_lexicon = {\n",
        "    **{w: 'positive' for w in opinion_lexicon.positive()},\n",
        "    **{w: 'negative' for w in opinion_lexicon.negative()}\n",
        "}\n",
        "\n",
        "df['sentiment'] = df['token'].map(sentiment_lexicon)\n",
        "df = df[~df.sentiment.isna()] # omit words out of opinion_lexicon, not always helpful but omission doesn't hinder here\n",
        "\n",
        "df.head(10)"
      ],
      "execution_count": 40,
      "outputs": [
        {
          "output_type": "execute_result",
          "data": {
            "text/html": [
              "<div>\n",
              "<style scoped>\n",
              "    .dataframe tbody tr th:only-of-type {\n",
              "        vertical-align: middle;\n",
              "    }\n",
              "\n",
              "    .dataframe tbody tr th {\n",
              "        vertical-align: top;\n",
              "    }\n",
              "\n",
              "    .dataframe thead th {\n",
              "        text-align: right;\n",
              "    }\n",
              "</style>\n",
              "<table border=\"1\" class=\"dataframe\">\n",
              "  <thead>\n",
              "    <tr style=\"text-align: right;\">\n",
              "      <th></th>\n",
              "      <th>token</th>\n",
              "      <th>sentiment</th>\n",
              "    </tr>\n",
              "  </thead>\n",
              "  <tbody>\n",
              "    <tr>\n",
              "      <th>15</th>\n",
              "      <td>modern</td>\n",
              "      <td>positive</td>\n",
              "    </tr>\n",
              "    <tr>\n",
              "      <th>17</th>\n",
              "      <td>success</td>\n",
              "      <td>positive</td>\n",
              "    </tr>\n",
              "    <tr>\n",
              "      <th>19</th>\n",
              "      <td>well</td>\n",
              "      <td>positive</td>\n",
              "    </tr>\n",
              "    <tr>\n",
              "      <th>19</th>\n",
              "      <td>great</td>\n",
              "      <td>positive</td>\n",
              "    </tr>\n",
              "    <tr>\n",
              "      <th>20</th>\n",
              "      <td>sufficiently</td>\n",
              "      <td>positive</td>\n",
              "    </tr>\n",
              "    <tr>\n",
              "      <th>21</th>\n",
              "      <td>encourage</td>\n",
              "      <td>positive</td>\n",
              "    </tr>\n",
              "    <tr>\n",
              "      <th>21</th>\n",
              "      <td>work</td>\n",
              "      <td>positive</td>\n",
              "    </tr>\n",
              "    <tr>\n",
              "      <th>22</th>\n",
              "      <td>urgent</td>\n",
              "      <td>negative</td>\n",
              "    </tr>\n",
              "    <tr>\n",
              "      <th>24</th>\n",
              "      <td>regret</td>\n",
              "      <td>negative</td>\n",
              "    </tr>\n",
              "    <tr>\n",
              "      <th>24</th>\n",
              "      <td>sincere</td>\n",
              "      <td>positive</td>\n",
              "    </tr>\n",
              "  </tbody>\n",
              "</table>\n",
              "</div>"
            ],
            "text/plain": [
              "           token sentiment\n",
              "15        modern  positive\n",
              "17       success  positive\n",
              "19          well  positive\n",
              "19         great  positive\n",
              "20  sufficiently  positive\n",
              "21     encourage  positive\n",
              "21          work  positive\n",
              "22        urgent  negative\n",
              "24        regret  negative\n",
              "24       sincere  positive"
            ]
          },
          "metadata": {},
          "execution_count": 40
        }
      ]
    },
    {
      "cell_type": "markdown",
      "metadata": {
        "id": "54g2G9YxOP-9"
      },
      "source": [
        "### Sort Sentiment Words by Frequency"
      ]
    },
    {
      "cell_type": "code",
      "metadata": {
        "colab": {
          "base_uri": "https://localhost:8080/"
        },
        "id": "KIQhRapGOP--",
        "outputId": "a6ab8bfd-3efc-4b4f-9d53-6694b20c3cae"
      },
      "source": [
        "df.token.value_counts().head(10)"
      ],
      "execution_count": 41,
      "outputs": [
        {
          "output_type": "execute_result",
          "data": {
            "text/plain": [
              "well       279\n",
              "death      236\n",
              "great      184\n",
              "brave      165\n",
              "fell       164\n",
              "mighty     163\n",
              "valiant    160\n",
              "bore       152\n",
              "fair       152\n",
              "godlike    144\n",
              "Name: token, dtype: int64"
            ]
          },
          "metadata": {},
          "execution_count": 41
        }
      ]
    },
    {
      "cell_type": "markdown",
      "metadata": {
        "id": "WywuXAhcOP--"
      },
      "source": [
        "### Summarize the Sentiment Words"
      ]
    },
    {
      "cell_type": "code",
      "metadata": {
        "colab": {
          "base_uri": "https://localhost:8080/",
          "height": 111
        },
        "id": "NExrG2eIOP-_",
        "outputId": "4598a079-4d4e-418a-a142-a60818674b66"
      },
      "source": [
        "summary_df = df.sentiment.value_counts().to_frame('n')\n",
        "summary_df['%'] = summary_df['n'] / summary_df.n.sum()\n",
        "\n",
        "summary_df.round(3)"
      ],
      "execution_count": 42,
      "outputs": [
        {
          "output_type": "execute_result",
          "data": {
            "text/html": [
              "<div>\n",
              "<style scoped>\n",
              "    .dataframe tbody tr th:only-of-type {\n",
              "        vertical-align: middle;\n",
              "    }\n",
              "\n",
              "    .dataframe tbody tr th {\n",
              "        vertical-align: top;\n",
              "    }\n",
              "\n",
              "    .dataframe thead th {\n",
              "        text-align: right;\n",
              "    }\n",
              "</style>\n",
              "<table border=\"1\" class=\"dataframe\">\n",
              "  <thead>\n",
              "    <tr style=\"text-align: right;\">\n",
              "      <th></th>\n",
              "      <th>n</th>\n",
              "      <th>%</th>\n",
              "    </tr>\n",
              "  </thead>\n",
              "  <tbody>\n",
              "    <tr>\n",
              "      <th>negative</th>\n",
              "      <td>6387</td>\n",
              "      <td>0.552</td>\n",
              "    </tr>\n",
              "    <tr>\n",
              "      <th>positive</th>\n",
              "      <td>5194</td>\n",
              "      <td>0.448</td>\n",
              "    </tr>\n",
              "  </tbody>\n",
              "</table>\n",
              "</div>"
            ],
            "text/plain": [
              "             n      %\n",
              "negative  6387  0.552\n",
              "positive  5194  0.448"
            ]
          },
          "metadata": {},
          "execution_count": 42
        }
      ]
    },
    {
      "cell_type": "code",
      "metadata": {
        "colab": {
          "base_uri": "https://localhost:8080/",
          "height": 299
        },
        "id": "F0VBqTdgOP-_",
        "outputId": "7f5f0f46-5989-4ac6-f082-2ec4b9b936eb"
      },
      "source": [
        "summary_df.n.plot.bar(legend=False, figsize=(8, 4), grid=True, color='gray')\n",
        "plt.xlabel('Sentiment')\n",
        "plt.ylabel('Frequency of Words')\n",
        "plt.title('The Iliad: Proportion of positive and negative words', loc='left')\n",
        "plt.xticks(rotation=0);"
      ],
      "execution_count": 43,
      "outputs": [
        {
          "output_type": "display_data",
          "data": {
            "image/png": "[encoded data removed]",
            "text/plain": [
              "<Figure size 576x288 with 1 Axes>"
            ]
          },
          "metadata": {}
        }
      ]
    }
  ]
}