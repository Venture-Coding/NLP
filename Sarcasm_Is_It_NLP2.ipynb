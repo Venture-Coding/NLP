{
  "nbformat": 4,
  "nbformat_minor": 0,
  "metadata": {
    "colab": {
      "name": "Sarcasm_Is_It_NLP2.ipynb",
      "provenance": [],
      "collapsed_sections": [],
      "include_colab_link": true
    },
    "kernelspec": {
      "display_name": "Python 3",
      "name": "python3"
    },
    "accelerator": "GPU"
  },
  "cells": [
    {
      "cell_type": "markdown",
      "metadata": {
        "id": "view-in-github",
        "colab_type": "text"
      },
      "source": [
        "<a href=\"https://colab.research.google.com/github/Venture-Coding/Linkedin_Learning/blob/main/NLP/Sarcasm_Is_It_NLP2.ipynb\" target=\"_parent\"><img src=\"https://colab.research.google.com/assets/colab-badge.svg\" alt=\"Open In Colab\"/></a>"
      ]
    },
    {
      "cell_type": "markdown",
      "metadata": {
        "id": "lTguFckTEDWd"
      },
      "source": [
        "# Classifying News Headlines\n",
        "\n",
        "This notebook explains the classification of news headlines as sarcastic and non-sarcastic. We are using the same headlines data as used before.\n"
      ]
    },
    {
      "cell_type": "code",
      "metadata": {
        "colab": {
          "base_uri": "https://localhost:8080/"
        },
        "id": "9mW3Mt2q5kL2",
        "outputId": "6aa8d313-9e0e-44bf-aa2e-e8bc1466131b"
      },
      "source": [
        "##import the required libraries and APIs\n",
        "import numpy as np\n",
        "import tensorflow as tf\n",
        "from tensorflow.keras.preprocessing.text import Tokenizer\n",
        "from tensorflow.keras.preprocessing.sequence import pad_sequences\n",
        "\n",
        "print(tf.__version__)"
      ],
      "execution_count": 5,
      "outputs": [
        {
          "output_type": "stream",
          "name": "stdout",
          "text": [
            "2.7.0\n"
          ]
        }
      ]
    },
    {
      "cell_type": "markdown",
      "metadata": {
        "id": "2rhw0j_s5UZ2"
      },
      "source": [
        "## Downloading the News Headlines data"
      ]
    },
    {
      "cell_type": "code",
      "metadata": {
        "id": "XlPflpsyyp5a"
      },
      "source": [
        "!wget --no-check-certificate \\\n",
        "    https://storage.googleapis.com/wdd-2-node.appspot.com/x1.json \\\n",
        "    -o /tmp/headlines.json"
      ],
      "execution_count": 6,
      "outputs": []
    },
    {
      "cell_type": "code",
      "metadata": {
        "colab": {
          "base_uri": "https://localhost:8080/",
          "height": 289
        },
        "id": "qfu_3u4yWjJy",
        "outputId": "15d14083-ae1b-4a7c-c9f3-eba285b99cd7"
      },
      "source": [
        "##read the the json file using pandas\n",
        "import pandas as pd\n",
        "\n",
        "data = pd.read_json(\"Sarcasm_Headlines_Dataset.json\", lines = True)\n",
        "data.head()"
      ],
      "execution_count": 7,
      "outputs": [
        {
          "output_type": "execute_result",
          "data": {
            "text/html": [
              "<div>\n",
              "<style scoped>\n",
              "    .dataframe tbody tr th:only-of-type {\n",
              "        vertical-align: middle;\n",
              "    }\n",
              "\n",
              "    .dataframe tbody tr th {\n",
              "        vertical-align: top;\n",
              "    }\n",
              "\n",
              "    .dataframe thead th {\n",
              "        text-align: right;\n",
              "    }\n",
              "</style>\n",
              "<table border=\"1\" class=\"dataframe\">\n",
              "  <thead>\n",
              "    <tr style=\"text-align: right;\">\n",
              "      <th></th>\n",
              "      <th>article_link</th>\n",
              "      <th>headline</th>\n",
              "      <th>is_sarcastic</th>\n",
              "    </tr>\n",
              "  </thead>\n",
              "  <tbody>\n",
              "    <tr>\n",
              "      <th>0</th>\n",
              "      <td>https://www.huffingtonpost.com/entry/versace-b...</td>\n",
              "      <td>former versace store clerk sues over secret 'b...</td>\n",
              "      <td>0</td>\n",
              "    </tr>\n",
              "    <tr>\n",
              "      <th>1</th>\n",
              "      <td>https://www.huffingtonpost.com/entry/roseanne-...</td>\n",
              "      <td>the 'roseanne' revival catches up to our thorn...</td>\n",
              "      <td>0</td>\n",
              "    </tr>\n",
              "    <tr>\n",
              "      <th>2</th>\n",
              "      <td>https://local.theonion.com/mom-starting-to-fea...</td>\n",
              "      <td>mom starting to fear son's web series closest ...</td>\n",
              "      <td>1</td>\n",
              "    </tr>\n",
              "    <tr>\n",
              "      <th>3</th>\n",
              "      <td>https://politics.theonion.com/boehner-just-wan...</td>\n",
              "      <td>boehner just wants wife to listen, not come up...</td>\n",
              "      <td>1</td>\n",
              "    </tr>\n",
              "    <tr>\n",
              "      <th>4</th>\n",
              "      <td>https://www.huffingtonpost.com/entry/jk-rowlin...</td>\n",
              "      <td>j.k. rowling wishes snape happy birthday in th...</td>\n",
              "      <td>0</td>\n",
              "    </tr>\n",
              "  </tbody>\n",
              "</table>\n",
              "</div>"
            ],
            "text/plain": [
              "                                        article_link  ... is_sarcastic\n",
              "0  https://www.huffingtonpost.com/entry/versace-b...  ...            0\n",
              "1  https://www.huffingtonpost.com/entry/roseanne-...  ...            0\n",
              "2  https://local.theonion.com/mom-starting-to-fea...  ...            1\n",
              "3  https://politics.theonion.com/boehner-just-wan...  ...            1\n",
              "4  https://www.huffingtonpost.com/entry/jk-rowlin...  ...            0\n",
              "\n",
              "[5 rows x 3 columns]"
            ]
          },
          "metadata": {},
          "execution_count": 7
        }
      ]
    },
    {
      "cell_type": "code",
      "metadata": {
        "colab": {
          "base_uri": "https://localhost:8080/"
        },
        "id": "sTSNIaUlRDzP",
        "outputId": "9de9a1aa-7018-4c37-de46-6376c63c0a58"
      },
      "source": [
        "data.info()"
      ],
      "execution_count": 8,
      "outputs": [
        {
          "output_type": "stream",
          "name": "stdout",
          "text": [
            "<class 'pandas.core.frame.DataFrame'>\n",
            "RangeIndex: 26709 entries, 0 to 26708\n",
            "Data columns (total 3 columns):\n",
            " #   Column        Non-Null Count  Dtype \n",
            "---  ------        --------------  ----- \n",
            " 0   article_link  26709 non-null  object\n",
            " 1   headline      26709 non-null  object\n",
            " 2   is_sarcastic  26709 non-null  int64 \n",
            "dtypes: int64(1), object(2)\n",
            "memory usage: 626.1+ KB\n"
          ]
        }
      ]
    },
    {
      "cell_type": "code",
      "metadata": {
        "id": "2Q5KWU5sarBZ"
      },
      "source": [
        "##store headlines and labels in respective lists\n",
        "headlines = list(data['headline'])\n",
        "labels = list(data['is_sarcastic'])"
      ],
      "execution_count": 9,
      "outputs": []
    },
    {
      "cell_type": "markdown",
      "metadata": {
        "id": "XrePJ_GANUzv"
      },
      "source": [
        "## Set the parameters"
      ]
    },
    {
      "cell_type": "code",
      "metadata": {
        "id": "SaOVx5_QWZJw"
      },
      "source": [
        "##define tokenizing and padding parameters\n",
        "vocab_size = 10000\n",
        "max_length = 120\n",
        "embedding_dim = 16\n",
        "#trunc_type='post' #removing to check performance\n",
        "padding_type='pre' #changing from post\n",
        "oov_tok = \"<oov>\"\n",
        "training_size = 18000"
      ],
      "execution_count": 10,
      "outputs": []
    },
    {
      "cell_type": "markdown",
      "metadata": {
        "id": "TOa0z54JHTtq"
      },
      "source": [
        "## Splitting the training and testing set"
      ]
    },
    {
      "cell_type": "code",
      "metadata": {
        "id": "iPCBLuAYWg-m"
      },
      "source": [
        "##sentences\n",
        "training_sentences = headlines[0:training_size]\n",
        "testing_sentences = headlines[training_size:]\n",
        "\n",
        "##labels\n",
        "training_labels = labels[0:training_size]\n",
        "testing_labels = labels[training_size:]"
      ],
      "execution_count": 11,
      "outputs": []
    },
    {
      "cell_type": "markdown",
      "metadata": {
        "id": "2YPzEKN-NnTx"
      },
      "source": [
        "## Preprocess sentences\n"
      ]
    },
    {
      "cell_type": "code",
      "metadata": {
        "id": "N4k_tDKJYSCL"
      },
      "source": [
        "tokenizer = Tokenizer(num_words=vocab_size, oov_token=oov_tok)\n",
        "tokenizer.fit_on_texts(training_sentences)\n",
        "\n",
        "word_index = tokenizer.word_index\n",
        "\n",
        "training_sequences = tokenizer.texts_to_sequences(training_sentences)\n",
        "training_padded = pad_sequences(training_sequences, maxlen=max_length, padding=padding_type) #truncating=trunc_type removed\n",
        "\n",
        "testing_sequences = tokenizer.texts_to_sequences(testing_sentences)\n",
        "testing_padded = pad_sequences(testing_sequences, maxlen=max_length, padding=padding_type) #, truncating=trunc_type removed"
      ],
      "execution_count": 12,
      "outputs": []
    },
    {
      "cell_type": "code",
      "metadata": {
        "id": "hFZGH6WXeZAZ"
      },
      "source": [
        "# convert lists into numpy arrays to make it work with TensorFlow 2.x\n",
        "training_padded = np.array(training_padded)\n",
        "training_labels = np.array(training_labels)\n",
        "testing_padded = np.array(testing_padded)\n",
        "testing_labels = np.array(testing_labels)"
      ],
      "execution_count": 13,
      "outputs": []
    },
    {
      "cell_type": "markdown",
      "metadata": {
        "id": "ZpBlIwAz7InY"
      },
      "source": [
        "## Define the Neural Network model with the following layers:\n",
        "1. Embedding layer\n",
        "2. Global Average pooling layer(1D)\n",
        "3. Dense layer with 24 nodes\n",
        "4. Output Dense layer with `sigmoid` activation "
      ]
    },
    {
      "cell_type": "code",
      "metadata": {
        "id": "JdDjMIDFebsD"
      },
      "source": [
        "model = tf.keras.Sequential([\n",
        "    tf.keras.layers.Embedding(vocab_size, embedding_dim, input_length=max_length),\n",
        "    tf.keras.layers.GlobalAveragePooling1D(),\n",
        "    tf.keras.layers.Dense(24, activation='relu'),\n",
        "    tf.keras.layers.Dense(1, activation='sigmoid')\n",
        "])\n",
        "\n",
        "##compile the model\n",
        "model.compile(optimizer= 'adam', loss='binary_crossentropy', metrics=['accuracy'])"
      ],
      "execution_count": 14,
      "outputs": []
    },
    {
      "cell_type": "code",
      "metadata": {
        "colab": {
          "base_uri": "https://localhost:8080/"
        },
        "id": "si5PeFv4ed5J",
        "outputId": "a7f9991c-61ae-4c3c-8c45-3a93d78d74cc"
      },
      "source": [
        "model.summary()"
      ],
      "execution_count": 15,
      "outputs": [
        {
          "output_type": "stream",
          "name": "stdout",
          "text": [
            "Model: \"sequential\"\n",
            "_________________________________________________________________\n",
            " Layer (type)                Output Shape              Param #   \n",
            "=================================================================\n",
            " embedding (Embedding)       (None, 120, 16)           160000    \n",
            "                                                                 \n",
            " global_average_pooling1d (G  (None, 16)               0         \n",
            " lobalAveragePooling1D)                                          \n",
            "                                                                 \n",
            " dense (Dense)               (None, 24)                408       \n",
            "                                                                 \n",
            " dense_1 (Dense)             (None, 1)                 25        \n",
            "                                                                 \n",
            "=================================================================\n",
            "Total params: 160,433\n",
            "Trainable params: 160,433\n",
            "Non-trainable params: 0\n",
            "_________________________________________________________________\n"
          ]
        }
      ]
    },
    {
      "cell_type": "markdown",
      "metadata": {
        "id": "q4Sk9WRYHbRh"
      },
      "source": [
        "## Train the model\n",
        "\n",
        "Save it into history"
      ]
    },
    {
      "cell_type": "code",
      "metadata": {
        "colab": {
          "base_uri": "https://localhost:8080/"
        },
        "id": "uuejoPk0efeb",
        "outputId": "8f6788e8-8a84-4cea-d9d7-af00298d97bd"
      },
      "source": [
        "num_epochs = 10\n",
        "history = model.fit(training_padded, \n",
        "                    training_labels, \n",
        "                    epochs=num_epochs, \n",
        "                    validation_data=(testing_padded, testing_labels), \n",
        "                    verbose=2)"
      ],
      "execution_count": 16,
      "outputs": [
        {
          "output_type": "stream",
          "name": "stdout",
          "text": [
            "Epoch 1/10\n",
            "563/563 - 6s - loss: 0.6827 - accuracy: 0.5586 - val_loss: 0.6665 - val_accuracy: 0.5654 - 6s/epoch - 11ms/step\n",
            "Epoch 2/10\n",
            "563/563 - 3s - loss: 0.5333 - accuracy: 0.7532 - val_loss: 0.4199 - val_accuracy: 0.8256 - 3s/epoch - 5ms/step\n",
            "Epoch 3/10\n",
            "563/563 - 3s - loss: 0.3463 - accuracy: 0.8611 - val_loss: 0.3794 - val_accuracy: 0.8281 - 3s/epoch - 5ms/step\n",
            "Epoch 4/10\n",
            "563/563 - 3s - loss: 0.2853 - accuracy: 0.8878 - val_loss: 0.3448 - val_accuracy: 0.8539 - 3s/epoch - 5ms/step\n",
            "Epoch 5/10\n",
            "563/563 - 3s - loss: 0.2471 - accuracy: 0.9034 - val_loss: 0.3431 - val_accuracy: 0.8545 - 3s/epoch - 5ms/step\n",
            "Epoch 6/10\n",
            "563/563 - 3s - loss: 0.2176 - accuracy: 0.9161 - val_loss: 0.3422 - val_accuracy: 0.8562 - 3s/epoch - 5ms/step\n",
            "Epoch 7/10\n",
            "563/563 - 3s - loss: 0.1938 - accuracy: 0.9273 - val_loss: 0.3470 - val_accuracy: 0.8520 - 3s/epoch - 5ms/step\n",
            "Epoch 8/10\n",
            "563/563 - 3s - loss: 0.1725 - accuracy: 0.9366 - val_loss: 0.3585 - val_accuracy: 0.8521 - 3s/epoch - 5ms/step\n",
            "Epoch 9/10\n",
            "563/563 - 3s - loss: 0.1568 - accuracy: 0.9437 - val_loss: 0.3630 - val_accuracy: 0.8527 - 3s/epoch - 5ms/step\n",
            "Epoch 10/10\n",
            "563/563 - 3s - loss: 0.1433 - accuracy: 0.9470 - val_loss: 0.3796 - val_accuracy: 0.8513 - 3s/epoch - 5ms/step\n"
          ]
        }
      ]
    },
    {
      "cell_type": "code",
      "metadata": {
        "colab": {
          "base_uri": "https://localhost:8080/"
        },
        "id": "wQbFS6Smmmep",
        "outputId": "69dcd7f5-a72c-4be7-a3a8-35dfaca1e306"
      },
      "source": [
        "loss, accuracy = model.evaluate(training_padded, training_labels, verbose=False)\n",
        "print(\"Training Accuracy: {:.4f}\".format(accuracy))\n",
        "loss, accuracy = model.evaluate(testing_padded, testing_labels, verbose=False)\n",
        "print(\"Testing Accuracy:  {:.4f}\".format(accuracy))"
      ],
      "execution_count": 17,
      "outputs": [
        {
          "output_type": "stream",
          "name": "stdout",
          "text": [
            "Training Accuracy: 0.9592\n",
            "Testing Accuracy:  0.8513\n"
          ]
        }
      ]
    },
    {
      "cell_type": "markdown",
      "metadata": {
        "id": "iHsKebGmmoKx"
      },
      "source": [
        "After a long tussle with hyperparameter optimization, we finally got out of the overfitting trap.  \n",
        "Earlier at embedding = 50, max len =100, adam learning rate = 0.01 and   \n",
        "also at embedding=16, training size = 20k (with/out learning rate = 0.01).  \n",
        "The model kept overfitting, reaching 99-100% training accuracy and reducing validation acccuracy overtime with epochs.  \n",
        "Too many epochs also were overfitting the data, tried at 50, 100, with no improvement.\n"
      ]
    },
    {
      "cell_type": "markdown",
      "metadata": {
        "id": "35BigeicGmRo"
      },
      "source": [
        "## Visualise the train & validation accuracy and loss"
      ]
    },
    {
      "cell_type": "code",
      "metadata": {
        "colab": {
          "base_uri": "https://localhost:8080/",
          "height": 542
        },
        "id": "iMQAQr-uehOD",
        "outputId": "fe86f082-b545-4a96-c0bb-aeaeb02fb73d"
      },
      "source": [
        "import matplotlib.pyplot as plt\n",
        "\n",
        "##plot the scores from history\n",
        "def plot_graphs(history, string):\n",
        "  plt.plot(history.history[string])\n",
        "  plt.plot(history.history['val_'+string])\n",
        "  plt.legend([string, 'val_'+string])\n",
        "  plt.xlabel(\"Epochs\")\n",
        "  plt.ylabel(string)\n",
        "  plt.show()\n",
        "  \n",
        "plot_graphs(history, \"accuracy\")\n",
        "plot_graphs(history, \"loss\")"
      ],
      "execution_count": 18,
      "outputs": [
        {
          "output_type": "display_data",
          "data": {
            "image/png": "[encoded data removed]",
            "text/plain": [
              "<Figure size 432x288 with 1 Axes>"
            ]
          },
          "metadata": {
            "needs_background": "light"
          }
        },
        {
          "output_type": "display_data",
          "data": {
            "image/png": "[encoded data removed]",
            "text/plain": [
              "<Figure size 432x288 with 1 Axes>"
            ]
          },
          "metadata": {
            "needs_background": "light"
          }
        }
      ]
    },
    {
      "cell_type": "markdown",
      "metadata": {
        "id": "va54l3Z0nw4b"
      },
      "source": [
        "By far the lowest loss and highest accuracy, with just embeddings (No GloVe, W2V, RNN, LSTM or CNN.  \n",
        "Acc is much higher (and loss lower) than the instructor of the course, himself. {happy moments 😀}"
      ]
    },
    {
      "cell_type": "markdown",
      "metadata": {
        "id": "FLuGAkBaGzaP"
      },
      "source": [
        "## Classifying a new sentence"
      ]
    },
    {
      "cell_type": "code",
      "metadata": {
        "colab": {
          "base_uri": "https://localhost:8080/"
        },
        "id": "2cVc8w-tejyj",
        "outputId": "8cd41ee5-eaab-4865-a37b-9f5ac7e95912"
      },
      "source": [
        "sentence = [\"the experts comment while the kids lament\", \"the day isnt far where daughters rule\"]\n",
        "\n",
        "##prepare the sequences of the sentences in question\n",
        "sequences = tokenizer.texts_to_sequences(sentence)\n",
        "padded_seqs = pad_sequences(sequences, maxlen=max_length, padding=padding_type)  #, truncating=trunc_type rem\n",
        "\n",
        "print(model.predict(padded_seqs))"
      ],
      "execution_count": 19,
      "outputs": [
        {
          "output_type": "stream",
          "name": "stdout",
          "text": [
            "[[0.00199462]\n",
            " [0.45524815]]\n"
          ]
        }
      ]
    },
    {
      "cell_type": "markdown",
      "metadata": {
        "id": "HPqmMZeTmR4a"
      },
      "source": [
        "As visible, with Word Embeddings, the model does an good job even with new sentences. But it's time to try deeper models to see if they are able to do a better job on this or a similar dataset."
      ]
    },
    {
      "cell_type": "code",
      "metadata": {
        "id": "CwT0yxfRgZY_"
      },
      "source": [
        ""
      ],
      "execution_count": 19,
      "outputs": []
    },
    {
      "cell_type": "markdown",
      "metadata": {
        "id": "N6GXwHKi4CDG"
      },
      "source": [
        "## Using the LSTM model with the following layers:\n",
        "1. Embedding layer\n",
        "2. Add two bidirectional LSTM layers with 64 and 32 as number of outputs.\n",
        "3. Dense layer with 24 nodes\n",
        "4. Output Dense layer with `sigmoid` activation "
      ]
    },
    {
      "cell_type": "code",
      "metadata": {
        "id": "sVKqEyAo4CDI"
      },
      "source": [
        "model2 = tf.keras.Sequential([\n",
        "    tf.keras.layers.Embedding(vocab_size, embedding_dim, input_length=max_length),\n",
        "    tf.keras.layers.Bidirectional(tf.keras.layers.LSTM(32, return_sequences=True)),\n",
        "    tf.keras.layers.Bidirectional(tf.keras.layers.LSTM(32)),\n",
        "    tf.keras.layers.Dense(24, activation='relu'),\n",
        "    tf.keras.layers.Dense(1, activation='sigmoid')\n",
        "])\n",
        "model2.compile(loss='binary_crossentropy',optimizer='adam',metrics=['accuracy'])"
      ],
      "execution_count": 20,
      "outputs": []
    },
    {
      "cell_type": "code",
      "metadata": {
        "colab": {
          "base_uri": "https://localhost:8080/"
        },
        "id": "58KDGsQM4CDJ",
        "outputId": "34cffad1-4300-4743-e2a4-1b68bcc2248a"
      },
      "source": [
        "model2.summary()"
      ],
      "execution_count": 21,
      "outputs": [
        {
          "output_type": "stream",
          "name": "stdout",
          "text": [
            "Model: \"sequential_1\"\n",
            "_________________________________________________________________\n",
            " Layer (type)                Output Shape              Param #   \n",
            "=================================================================\n",
            " embedding_1 (Embedding)     (None, 120, 16)           160000    \n",
            "                                                                 \n",
            " bidirectional (Bidirectiona  (None, 120, 64)          12544     \n",
            " l)                                                              \n",
            "                                                                 \n",
            " bidirectional_1 (Bidirectio  (None, 64)               24832     \n",
            " nal)                                                            \n",
            "                                                                 \n",
            " dense_2 (Dense)             (None, 24)                1560      \n",
            "                                                                 \n",
            " dense_3 (Dense)             (None, 1)                 25        \n",
            "                                                                 \n",
            "=================================================================\n",
            "Total params: 198,961\n",
            "Trainable params: 198,961\n",
            "Non-trainable params: 0\n",
            "_________________________________________________________________\n"
          ]
        }
      ]
    },
    {
      "cell_type": "code",
      "metadata": {
        "colab": {
          "base_uri": "https://localhost:8080/"
        },
        "id": "epoOli2k4CDJ",
        "outputId": "b5ccd02a-92ea-4aeb-dd8c-bf21a3f38c83"
      },
      "source": [
        "num_epochs = 5\n",
        "history2 = model2.fit(training_padded,\n",
        "                    training_labels,\n",
        "                    epochs=num_epochs,\n",
        "                    validation_data=(testing_padded, testing_labels),\n",
        "                    verbose=2)"
      ],
      "execution_count": 25,
      "outputs": [
        {
          "output_type": "stream",
          "name": "stdout",
          "text": [
            "Epoch 1/5\n",
            "563/563 - 64s - loss: 0.1889 - accuracy: 0.9321 - val_loss: 0.4367 - val_accuracy: 0.8342 - 64s/epoch - 114ms/step\n",
            "Epoch 2/5\n",
            "563/563 - 64s - loss: 0.1437 - accuracy: 0.9509 - val_loss: 0.4556 - val_accuracy: 0.8313 - 64s/epoch - 114ms/step\n",
            "Epoch 3/5\n",
            "563/563 - 64s - loss: 0.1130 - accuracy: 0.9633 - val_loss: 0.5115 - val_accuracy: 0.8341 - 64s/epoch - 114ms/step\n",
            "Epoch 4/5\n",
            "563/563 - 64s - loss: 0.0883 - accuracy: 0.9729 - val_loss: 0.5397 - val_accuracy: 0.8299 - 64s/epoch - 114ms/step\n",
            "Epoch 5/5\n",
            "563/563 - 64s - loss: 0.0764 - accuracy: 0.9767 - val_loss: 0.6025 - val_accuracy: 0.8258 - 64s/epoch - 114ms/step\n"
          ]
        }
      ]
    },
    {
      "cell_type": "markdown",
      "metadata": {
        "id": "ZYcGUFGSC_gE"
      },
      "source": [
        "Val falls 85 >> 82.7 ; Trn 99 : 30 epoch , no GAPooling, 1st LSTM - 64 units."
      ]
    },
    {
      "cell_type": "code",
      "metadata": {
        "id": "-5HlFTbK4STz",
        "colab": {
          "base_uri": "https://localhost:8080/",
          "height": 541
        },
        "outputId": "c69fe411-6168-47af-fc65-82651732bde7"
      },
      "source": [
        "plot_graphs(history2, \"accuracy\")\n",
        "plot_graphs(history2, \"loss\")"
      ],
      "execution_count": 26,
      "outputs": [
        {
          "output_type": "display_data",
          "data": {
            "image/png": "[encoded data removed]",
            "text/plain": [
              "<Figure size 432x288 with 1 Axes>"
            ]
          },
          "metadata": {
            "needs_background": "light"
          }
        },
        {
          "output_type": "display_data",
          "data": {
            "image/png": "[encoded data removed]",
            "text/plain": [
              "<Figure size 432x288 with 1 Axes>"
            ]
          },
          "metadata": {
            "needs_background": "light"
          }
        }
      ]
    },
    {
      "cell_type": "markdown",
      "metadata": {
        "id": "2-n8vaduGZ50"
      },
      "source": [
        "Given the nature of our dataset, it seems the accuracy just isn't crossing the 80s.\n",
        "Even 2 Bidirevtional LSTMs are overfitting on training data and val loss increases with epochs. \n",
        "Some hyper-parameter tuning might help, but cost:benefit looks bleak after studying 4 other models by machinelearningmastery.com, medium.com, towardsdatascience and one from kaggle.  \n",
        "So better to try out a CNN model before wrapping up this project."
      ]
    },
    {
      "cell_type": "markdown",
      "metadata": {
        "id": "qm-W_CCpGaTx"
      },
      "source": [
        "## Improving performance using CNN \n",
        "\n",
        "Define the neural network model with the following layers:\n",
        "1. Embedding layer\n",
        "2. Replace the bidirectional LSTM layers with convolutional layers with a filter size of 5.\n",
        "3. GlovalAveragePooling Layer to down sample the feature map.\n",
        "3. Dense layer with 24 nodes\n",
        "4. Output Dense layer with `sigmoid` activation "
      ]
    },
    {
      "cell_type": "code",
      "metadata": {
        "id": "IZ-JXoIQBM6g"
      },
      "source": [
        "model3 = tf.keras.Sequential([\n",
        "    tf.keras.layers.Embedding(vocab_size, embedding_dim, input_length=max_length),\n",
        "    tf.keras.layers.Conv1D(64, 5, activation='relu'),\n",
        "    tf.keras.layers.GlobalAveragePooling1D(),\n",
        "    tf.keras.layers.Dense(24, activation='relu'),\n",
        "    tf.keras.layers.Dense(1, activation='sigmoid')\n",
        "])\n",
        "model3.compile(loss='binary_crossentropy',optimizer='adam',metrics=['accuracy'])"
      ],
      "execution_count": 30,
      "outputs": []
    },
    {
      "cell_type": "code",
      "metadata": {
        "colab": {
          "base_uri": "https://localhost:8080/"
        },
        "id": "zKssvRLLGaTy",
        "outputId": "3269f8fa-41c1-486f-edfc-4781c80b8e34"
      },
      "source": [
        "model3.summary()"
      ],
      "execution_count": 31,
      "outputs": [
        {
          "output_type": "stream",
          "name": "stdout",
          "text": [
            "Model: \"sequential_3\"\n",
            "_________________________________________________________________\n",
            " Layer (type)                Output Shape              Param #   \n",
            "=================================================================\n",
            " embedding_3 (Embedding)     (None, 120, 16)           160000    \n",
            "                                                                 \n",
            " conv1d_1 (Conv1D)           (None, 116, 64)           5184      \n",
            "                                                                 \n",
            " global_average_pooling1d_2   (None, 64)               0         \n",
            " (GlobalAveragePooling1D)                                        \n",
            "                                                                 \n",
            " dense_6 (Dense)             (None, 24)                1560      \n",
            "                                                                 \n",
            " dense_7 (Dense)             (None, 1)                 25        \n",
            "                                                                 \n",
            "=================================================================\n",
            "Total params: 166,769\n",
            "Trainable params: 166,769\n",
            "Non-trainable params: 0\n",
            "_________________________________________________________________\n"
          ]
        }
      ]
    },
    {
      "cell_type": "code",
      "metadata": {
        "colab": {
          "base_uri": "https://localhost:8080/"
        },
        "id": "01KDgixeGaTy",
        "outputId": "be3d166e-1cb9-4f33-809f-89d62798659c"
      },
      "source": [
        "num_epochs = 5\n",
        "history3 = model3.fit(training_padded, training_labels, epochs=num_epochs, validation_data=(testing_padded, testing_labels), verbose=2)"
      ],
      "execution_count": 32,
      "outputs": [
        {
          "output_type": "stream",
          "name": "stdout",
          "text": [
            "Epoch 1/5\n",
            "563/563 - 30s - loss: 0.5212 - accuracy: 0.7202 - val_loss: 0.3648 - val_accuracy: 0.8375 - 30s/epoch - 54ms/step\n",
            "Epoch 2/5\n",
            "563/563 - 3s - loss: 0.2750 - accuracy: 0.8867 - val_loss: 0.3419 - val_accuracy: 0.8484 - 3s/epoch - 6ms/step\n",
            "Epoch 3/5\n",
            "563/563 - 3s - loss: 0.1978 - accuracy: 0.9246 - val_loss: 0.3669 - val_accuracy: 0.8473 - 3s/epoch - 6ms/step\n",
            "Epoch 4/5\n",
            "563/563 - 3s - loss: 0.1503 - accuracy: 0.9456 - val_loss: 0.4135 - val_accuracy: 0.8387 - 3s/epoch - 6ms/step\n",
            "Epoch 5/5\n",
            "563/563 - 3s - loss: 0.1173 - accuracy: 0.9592 - val_loss: 0.4857 - val_accuracy: 0.8314 - 3s/epoch - 6ms/step\n"
          ]
        }
      ]
    },
    {
      "cell_type": "code",
      "metadata": {
        "colab": {
          "base_uri": "https://localhost:8080/",
          "height": 541
        },
        "id": "NPK4jzq9FkzH",
        "outputId": "20c9ce14-07d4-4b1d-81a6-31a21311ca74"
      },
      "source": [
        "plot_graphs(history3, \"accuracy\")\n",
        "plot_graphs(history3, \"loss\")"
      ],
      "execution_count": 33,
      "outputs": [
        {
          "output_type": "display_data",
          "data": {
            "image/png": "[encoded data removed]",
            "text/plain": [
              "<Figure size 432x288 with 1 Axes>"
            ]
          },
          "metadata": {
            "needs_background": "light"
          }
        },
        {
          "output_type": "display_data",
          "data": {
            "image/png": "[encoded data removed]",
            "text/plain": [
              "<Figure size 432x288 with 1 Axes>"
            ]
          },
          "metadata": {
            "needs_background": "light"
          }
        }
      ]
    },
    {
      "cell_type": "code",
      "metadata": {
        "colab": {
          "base_uri": "https://localhost:8080/"
        },
        "id": "c8mgqmjCI4BW",
        "outputId": "1efa9bbf-3d39-4592-b692-013a8bed9b39"
      },
      "source": [
        "loss, accuracy3 = model3.evaluate(training_padded, training_labels, verbose=False)\n",
        "print(\"Training Accuracy: {:.4f}\".format(accuracy3))\n",
        "loss, accuracy3 = model3.evaluate(testing_padded, testing_labels, verbose=False)\n",
        "print(\"Testing Accuracy:  {:.4f}\".format(accuracy3))"
      ],
      "execution_count": 35,
      "outputs": [
        {
          "output_type": "stream",
          "name": "stdout",
          "text": [
            "Training Accuracy: 0.9732\n",
            "Testing Accuracy:  0.8314\n"
          ]
        }
      ]
    },
    {
      "cell_type": "markdown",
      "metadata": {
        "id": "LZEqEUHHKI17"
      },
      "source": [
        "As expected, the CNN models also gives similar results, although a bit faster(quite), and with lesser layers and 30,000 lesser parameters compared to the LSTM model."
      ]
    },
    {
      "cell_type": "code",
      "metadata": {
        "id": "1HwzXnloJpd0"
      },
      "source": [
        ""
      ],
      "execution_count": null,
      "outputs": []
    }
  ]
}