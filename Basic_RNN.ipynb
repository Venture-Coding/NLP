{
  "nbformat": 4,
  "nbformat_minor": 0,
  "metadata": {
    "kernelspec": {
      "display_name": "Python 3",
      "language": "python",
      "name": "python3"
    },
    "language_info": {
      "codemirror_mode": {
        "name": "ipython",
        "version": 3
      },
      "file_extension": ".py",
      "mimetype": "text/x-python",
      "name": "python",
      "nbconvert_exporter": "python",
      "pygments_lexer": "ipython3",
      "version": "3.6.2"
    },
    "colab": {
      "name": "Basic RNN.ipynb",
      "provenance": [],
      "include_colab_link": true
    }
  },
  "cells": [
    {
      "cell_type": "markdown",
      "metadata": {
        "id": "view-in-github",
        "colab_type": "text"
      },
      "source": [
        "<a href=\"https://colab.research.google.com/github/Venture-Coding/Linkedin_Learning/blob/main/NLP/Basic_RNN.ipynb\" target=\"_parent\"><img src=\"https://colab.research.google.com/assets/colab-badge.svg\" alt=\"Open In Colab\"/></a>"
      ]
    },
    {
      "cell_type": "markdown",
      "metadata": {
        "id": "BzxQxr-1b-l8"
      },
      "source": [
        "## RNNs: Implementing A Basic RNN"
      ]
    },
    {
      "cell_type": "code",
      "metadata": {
        "id": "ABjoSCJKc4OQ"
      },
      "source": [
        "import numpy as np\n",
        "import pandas as pd\n",
        "from sklearn.model_selection import train_test_split\n",
        "pd.set_option('display.max_colwidth', 1000)"
      ],
      "execution_count": 1,
      "outputs": []
    },
    {
      "cell_type": "markdown",
      "metadata": {
        "id": "hsR1MYtXb-mC"
      },
      "source": [
        "### Read In & Split The Data"
      ]
    },
    {
      "cell_type": "code",
      "metadata": {
        "id": "yPsBFb44b-mD"
      },
      "source": [
        "# Read in data and split into training and test set\n",
        "# NOTE: we are NOT cleaning the data\n",
        "messages = pd.read_csv('spam.csv', encoding='latin-1')\n",
        "messages = messages.drop(labels = [\"Unnamed: 2\", \"Unnamed: 3\", \"Unnamed: 4\"], axis = 1)\n",
        "messages.columns = [\"label\", \"text\"]\n",
        "labels = np.where(messages['label']=='spam', 1, 0)\n",
        "\n",
        "X_train, X_test, y_train, y_test = train_test_split(messages['text'],\n",
        "                                                    labels, test_size=0.2)"
      ],
      "execution_count": 2,
      "outputs": []
    },
    {
      "cell_type": "markdown",
      "metadata": {
        "id": "T_OQDHbBb-mH"
      },
      "source": [
        "### Prep Data For Modeling"
      ]
    },
    {
      "cell_type": "code",
      "metadata": {
        "colab": {
          "base_uri": "https://localhost:8080/"
        },
        "id": "_OYfX5Seb-mH",
        "outputId": "7fa81683-49e8-4aa8-88fd-4e7d5fa59077"
      },
      "source": [
        "# Install keras\n",
        "!pip install -U keras"
      ],
      "execution_count": 3,
      "outputs": [
        {
          "output_type": "stream",
          "name": "stdout",
          "text": [
            "Requirement already satisfied: keras in /usr/local/lib/python3.7/dist-packages (2.7.0)\n"
          ]
        }
      ]
    },
    {
      "cell_type": "code",
      "metadata": {
        "id": "VJnkOoGZb-mJ"
      },
      "source": [
        "# Import the tools we will need from keras\n",
        "from keras.preprocessing.text import Tokenizer\n",
        "from keras.preprocessing.sequence import pad_sequences"
      ],
      "execution_count": 4,
      "outputs": []
    },
    {
      "cell_type": "code",
      "metadata": {
        "id": "H9-SqNMpb-mK"
      },
      "source": [
        "# Initialize and fit the tokenizer\n",
        "tokenizer = Tokenizer()\n",
        "tokenizer.fit_on_texts(X_train)"
      ],
      "execution_count": 5,
      "outputs": []
    },
    {
      "cell_type": "code",
      "metadata": {
        "id": "gpW2KW8ub-mL"
      },
      "source": [
        "# Use that tokenizer to transform the text messages in the training and test sets\n",
        "X_train_seq = tokenizer.texts_to_sequences(X_train)\n",
        "X_test_seq = tokenizer.texts_to_sequences(X_test)"
      ],
      "execution_count": 6,
      "outputs": []
    },
    {
      "cell_type": "code",
      "metadata": {
        "colab": {
          "base_uri": "https://localhost:8080/"
        },
        "id": "VZwwVuzVb-mM",
        "outputId": "09afa8f7-1b06-46b3-dd83-09d581617db1"
      },
      "source": [
        "# What do these sequences look like?\n",
        "X_train_seq[0]"
      ],
      "execution_count": 7,
      "outputs": [
        {
          "output_type": "execute_result",
          "data": {
            "text/plain": [
              "[1109, 77, 5, 662, 3836]"
            ]
          },
          "metadata": {},
          "execution_count": 7
        }
      ]
    },
    {
      "cell_type": "code",
      "metadata": {
        "id": "Psig6GhQb-mO"
      },
      "source": [
        "# Pad the sequences so each sequence is the same length\n",
        "X_train_seq_padded = pad_sequences(X_train_seq, 50)\n",
        "X_test_seq_padded = pad_sequences(X_test_seq, 50)"
      ],
      "execution_count": 8,
      "outputs": []
    },
    {
      "cell_type": "code",
      "metadata": {
        "colab": {
          "base_uri": "https://localhost:8080/"
        },
        "id": "M3txPBz_b-mO",
        "outputId": "858df197-97af-48cd-d897-3a84c6b19ebd"
      },
      "source": [
        "# What do these padded sequences look like?\n",
        "X_train_seq_padded[0]"
      ],
      "execution_count": 9,
      "outputs": [
        {
          "output_type": "execute_result",
          "data": {
            "text/plain": [
              "array([   0,    0,    0,    0,    0,    0,    0,    0,    0,    0,    0,\n",
              "          0,    0,    0,    0,    0,    0,    0,    0,    0,    0,    0,\n",
              "          0,    0,    0,    0,    0,    0,    0,    0,    0,    0,    0,\n",
              "          0,    0,    0,    0,    0,    0,    0,    0,    0,    0,    0,\n",
              "          0, 1109,   77,    5,  662, 3836], dtype=int32)"
            ]
          },
          "metadata": {},
          "execution_count": 9
        }
      ]
    },
    {
      "cell_type": "markdown",
      "metadata": {
        "id": "BSa_2Vobb-mP"
      },
      "source": [
        "### Build Model"
      ]
    },
    {
      "cell_type": "code",
      "metadata": {
        "id": "jHbbbWTWb-mP"
      },
      "source": [
        "# Import the tools needed from keras and define functions to calculate recall and precision\n",
        "import keras.backend as K\n",
        "from keras.layers import Dense, Embedding, LSTM\n",
        "from keras.models import Sequential\n",
        "\n",
        "def recall_m(y_true, y_pred):\n",
        "        true_positives = K.sum(K.round(K.clip(y_true * y_pred, 0, 1)))\n",
        "        possible_positives = K.sum(K.round(K.clip(y_true, 0, 1)))\n",
        "        recall = true_positives / (possible_positives + K.epsilon())\n",
        "        return recall\n",
        "\n",
        "def precision_m(y_true, y_pred):\n",
        "        true_positives = K.sum(K.round(K.clip(y_true * y_pred, 0, 1)))\n",
        "        predicted_positives = K.sum(K.round(K.clip(y_pred, 0, 1)))\n",
        "        precision = true_positives / (predicted_positives + K.epsilon())\n",
        "        return precision"
      ],
      "execution_count": 10,
      "outputs": []
    },
    {
      "cell_type": "code",
      "metadata": {
        "colab": {
          "base_uri": "https://localhost:8080/"
        },
        "id": "bs4XJgEwb-mQ",
        "outputId": "0a1cc673-c095-45b5-b391-c182e5a7ebd3"
      },
      "source": [
        "# Construct a simple RNN model\n",
        "model = Sequential()\n",
        "\n",
        "model.add(Embedding(len(tokenizer.index_word)+1, 32))\n",
        "model.add(LSTM(32, dropout=0, recurrent_dropout=0))\n",
        "model.add(Dense(32, activation='relu'))\n",
        "model.add(Dense(1, activation='sigmoid'))\n",
        "model.summary()"
      ],
      "execution_count": 21,
      "outputs": [
        {
          "output_type": "stream",
          "name": "stdout",
          "text": [
            "Model: \"sequential_1\"\n",
            "_________________________________________________________________\n",
            " Layer (type)                Output Shape              Param #   \n",
            "=================================================================\n",
            " embedding_1 (Embedding)     (None, None, 32)          253056    \n",
            "                                                                 \n",
            " lstm_1 (LSTM)               (None, 32)                8320      \n",
            "                                                                 \n",
            " dense_2 (Dense)             (None, 32)                1056      \n",
            "                                                                 \n",
            " dense_3 (Dense)             (None, 1)                 33        \n",
            "                                                                 \n",
            "=================================================================\n",
            "Total params: 262,465\n",
            "Trainable params: 262,465\n",
            "Non-trainable params: 0\n",
            "_________________________________________________________________\n"
          ]
        }
      ]
    },
    {
      "cell_type": "code",
      "metadata": {
        "id": "HNq0nmybb-mR"
      },
      "source": [
        "# Compile the model\n",
        "model.compile(optimizer='adam',\n",
        "              loss='binary_crossentropy',\n",
        "              metrics=['accuracy', precision_m, recall_m])"
      ],
      "execution_count": 22,
      "outputs": []
    },
    {
      "cell_type": "code",
      "metadata": {
        "colab": {
          "base_uri": "https://localhost:8080/"
        },
        "id": "Di0cQQkeb-mR",
        "outputId": "f194debf-2925-4b0a-e429-8a7421bfb489"
      },
      "source": [
        "# Fit the RNN model\n",
        "history = model.fit(X_train_seq_padded, y_train, \n",
        "                    batch_size=32, epochs=10,\n",
        "                    validation_data=(X_test_seq_padded, y_test))"
      ],
      "execution_count": 23,
      "outputs": [
        {
          "output_type": "stream",
          "name": "stdout",
          "text": [
            "Epoch 1/10\n",
            "140/140 [==============================] - 7s 34ms/step - loss: 0.3293 - accuracy: 0.8970 - precision_m: 0.3236 - recall_m: 0.2553 - val_loss: 0.1108 - val_accuracy: 0.9623 - val_precision_m: 0.9314 - val_recall_m: 0.6984\n",
            "Epoch 2/10\n",
            "140/140 [==============================] - 4s 30ms/step - loss: 0.0422 - accuracy: 0.9881 - precision_m: 0.9662 - recall_m: 0.9187 - val_loss: 0.0771 - val_accuracy: 0.9776 - val_precision_m: 1.0000 - val_recall_m: 0.8439\n",
            "Epoch 3/10\n",
            "140/140 [==============================] - 4s 30ms/step - loss: 0.0169 - accuracy: 0.9960 - precision_m: 0.9780 - recall_m: 0.9611 - val_loss: 0.0809 - val_accuracy: 0.9785 - val_precision_m: 1.0000 - val_recall_m: 0.8486\n",
            "Epoch 4/10\n",
            "140/140 [==============================] - 4s 31ms/step - loss: 0.0073 - accuracy: 0.9982 - precision_m: 0.9921 - recall_m: 0.9830 - val_loss: 0.0751 - val_accuracy: 0.9821 - val_precision_m: 1.0000 - val_recall_m: 0.8718\n",
            "Epoch 5/10\n",
            "140/140 [==============================] - 4s 30ms/step - loss: 0.0034 - accuracy: 0.9993 - precision_m: 1.0000 - recall_m: 0.9950 - val_loss: 0.0677 - val_accuracy: 0.9839 - val_precision_m: 0.9929 - val_recall_m: 0.8949\n",
            "Epoch 6/10\n",
            "140/140 [==============================] - 4s 31ms/step - loss: 0.0018 - accuracy: 0.9996 - precision_m: 0.9857 - recall_m: 0.9833 - val_loss: 0.0902 - val_accuracy: 0.9812 - val_precision_m: 1.0000 - val_recall_m: 0.8622\n",
            "Epoch 7/10\n",
            "140/140 [==============================] - 4s 30ms/step - loss: 0.0014 - accuracy: 0.9996 - precision_m: 0.9857 - recall_m: 0.9819 - val_loss: 0.0838 - val_accuracy: 0.9830 - val_precision_m: 1.0000 - val_recall_m: 0.8759\n",
            "Epoch 8/10\n",
            "140/140 [==============================] - 4s 31ms/step - loss: 3.6297e-04 - accuracy: 1.0000 - precision_m: 0.9929 - recall_m: 0.9929 - val_loss: 0.0895 - val_accuracy: 0.9830 - val_precision_m: 1.0000 - val_recall_m: 0.8759\n",
            "Epoch 9/10\n",
            "140/140 [==============================] - 5s 32ms/step - loss: 2.3022e-04 - accuracy: 1.0000 - precision_m: 0.9786 - recall_m: 0.9786 - val_loss: 0.0906 - val_accuracy: 0.9839 - val_precision_m: 1.0000 - val_recall_m: 0.8854\n",
            "Epoch 10/10\n",
            "140/140 [==============================] - 4s 31ms/step - loss: 8.8094e-05 - accuracy: 1.0000 - precision_m: 0.9929 - recall_m: 0.9929 - val_loss: 0.0974 - val_accuracy: 0.9830 - val_precision_m: 1.0000 - val_recall_m: 0.8759\n"
          ]
        }
      ]
    },
    {
      "cell_type": "code",
      "metadata": {
        "colab": {
          "base_uri": "https://localhost:8080/",
          "height": 809
        },
        "id": "mJxT42uHb-mS",
        "outputId": "c312385e-733a-406a-f561-c3831cf1fbe4"
      },
      "source": [
        "# Plot the evaluation metrics by each epoch for the model to see if we are over or underfitting\n",
        "import matplotlib.pyplot as plt\n",
        "\n",
        "for i in ['accuracy', 'precision_m', 'recall_m']:\n",
        "    acc = history.history[i]\n",
        "    val_acc = history.history['val_{}'.format(i)]\n",
        "    epochs = range(1, len(acc) + 1)\n",
        "\n",
        "    plt.figure()\n",
        "    plt.plot(epochs, acc, label='Training Accuracy')\n",
        "    plt.plot(epochs, val_acc, label='Validation Accuracy')\n",
        "    plt.title('Results for {}'.format(i))\n",
        "    plt.legend()\n",
        "    plt.show()"
      ],
      "execution_count": 24,
      "outputs": [
        {
          "output_type": "display_data",
          "data": {
            "image/png": "[encoded data removed]",
            "text/plain": [
              "<Figure size 432x288 with 1 Axes>"
            ]
          },
          "metadata": {
            "needs_background": "light"
          }
        },
        {
          "output_type": "display_data",
          "data": {
            "image/png": "[encoded data removed]",
            "text/plain": [
              "<Figure size 432x288 with 1 Axes>"
            ]
          },
          "metadata": {
            "needs_background": "light"
          }
        },
        {
          "output_type": "display_data",
          "data": {
            "image/png": "[encoded data removed]",
            "text/plain": [
              "<Figure size 432x288 with 1 Axes>"
            ]
          },
          "metadata": {
            "needs_background": "light"
          }
        }
      ]
    },
    {
      "cell_type": "markdown",
      "metadata": {
        "id": "LhABSvGimVJ8"
      },
      "source": [
        "Since, we have a comparitively small dataset as well as 32 units in the hidden layers, we achieve high training accuracy pretty quickly and it is maintained throughout the epochs."
      ]
    },
    {
      "cell_type": "code",
      "metadata": {
        "id": "85XR1OO8b-mT"
      },
      "source": [
        ""
      ],
      "execution_count": 18,
      "outputs": []
    }
  ]
}