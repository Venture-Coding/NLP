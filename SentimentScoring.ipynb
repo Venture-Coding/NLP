{
  "nbformat": 4,
  "nbformat_minor": 0,
  "metadata": {
    "file_extension": ".py",
    "kernelspec": {
      "display_name": "Python 3",
      "language": "python",
      "name": "python3"
    },
    "language_info": {
      "codemirror_mode": {
        "name": "ipython",
        "version": 3
      },
      "file_extension": ".py",
      "mimetype": "text/x-python",
      "name": "python",
      "nbconvert_exporter": "python",
      "pygments_lexer": "ipython3",
      "version": "3.7.9"
    },
    "mimetype": "text/x-python",
    "name": "python",
    "npconvert_exporter": "python",
    "pygments_lexer": "ipython3",
    "version": 3,
    "colab": {
      "name": "SentimentScoring.ipynb",
      "provenance": []
    }
  },
  "cells": [
    {
      "cell_type": "markdown",
      "metadata": {
        "id": "CDPw2m7cSqMJ"
      },
      "source": [
        "# SENTIMENT SCORING\n",
        "\n",
        "**File:** SentimentScoring.ipynb\n",
        "\n",
        "**Course:** Data Science Foundations: Data Mining in Python"
      ]
    },
    {
      "cell_type": "markdown",
      "metadata": {
        "id": "1AtSHYd5SqMM"
      },
      "source": [
        "### Install and Import\n",
        "\n",
        "We'll use Python library `afinn` to score sentiments. It can be installed with Python's `pip` command. This command only needs to be done once per machine. (We're also using `nltk`, a package we used in an earlier demonstration. If you don't have it installed already, you'll need to use the code below again, just swapping in `nltk` where `afinn` is.\n",
        "\n",
        "The standard, shorter approach may work:"
      ]
    },
    {
      "cell_type": "code",
      "metadata": {
        "colab": {
          "base_uri": "https://localhost:8080/"
        },
        "id": "WOndF976SqMP",
        "outputId": "1e43caa2-3224-4e3b-e7a8-457b3e809e21"
      },
      "source": [
        "pip install afinn"
      ],
      "execution_count": 7,
      "outputs": [
        {
          "output_type": "stream",
          "name": "stdout",
          "text": [
            "Collecting afinn\n",
            "  Downloading afinn-0.1.tar.gz (52 kB)\n",
            "\u001b[?25l\r\u001b[K     |██████▎                         | 10 kB 24.1 MB/s eta 0:00:01\r\u001b[K     |████████████▌                   | 20 kB 12.1 MB/s eta 0:00:01\r\u001b[K     |██████████████████▊             | 30 kB 10.3 MB/s eta 0:00:01\r\u001b[K     |█████████████████████████       | 40 kB 9.1 MB/s eta 0:00:01\r\u001b[K     |███████████████████████████████▏| 51 kB 5.2 MB/s eta 0:00:01\r\u001b[K     |████████████████████████████████| 52 kB 901 kB/s \n",
            "\u001b[?25hBuilding wheels for collected packages: afinn\n",
            "  Building wheel for afinn (setup.py) ... \u001b[?25l\u001b[?25hdone\n",
            "  Created wheel for afinn: filename=afinn-0.1-py3-none-any.whl size=53448 sha256=8cb013f3497ddcc3408eb70e5a2f6eb321db2006b02a6a620b22643107250958\n",
            "  Stored in directory: /root/.cache/pip/wheels/9d/16/3a/9f0953027434eab5dadf3f33ab3298fa95afa8292fcf7aba75\n",
            "Successfully built afinn\n",
            "Installing collected packages: afinn\n",
            "Successfully installed afinn-0.1\n"
          ]
        }
      ]
    },
    {
      "cell_type": "markdown",
      "metadata": {
        "id": "Q_mODxnWSqMR"
      },
      "source": [
        "If the above command didn't work, it may be necessary to be more explicit, in which case you could run the code below."
      ]
    },
    {
      "cell_type": "code",
      "metadata": {
        "scrolled": true,
        "id": "hzuWevlrSqMR"
      },
      "source": [
        "# import sys\n",
        "# !{sys.executable} -m pip install afinn"
      ],
      "execution_count": 8,
      "outputs": []
    },
    {
      "cell_type": "markdown",
      "metadata": {
        "id": "GbqUA6CgSqMS"
      },
      "source": [
        "Once `afinn` is installed, then load the libraries below."
      ]
    },
    {
      "cell_type": "code",
      "metadata": {
        "scrolled": true,
        "id": "XyJajO3lSqMS"
      },
      "source": [
        "# Import libraries\n",
        "import re  # For regular expressions\n",
        "import nltk  # For text functions\n",
        "import matplotlib.pyplot as plt  # For plotting\n",
        "import pandas as pd  # For dataframes\n",
        "from afinn import Afinn  # For sentiment values\n",
        "\n",
        "# Import corpora and functions from NLTK\n",
        "from nltk.corpus import stopwords\n",
        "from nltk.corpus import opinion_lexicon\n",
        "from nltk.tokenize import word_tokenize\n",
        "\n",
        "# Download data for NLTK\n",
        "nltk.download('stopwords', quiet=True)\n",
        "nltk.download('opinion_lexicon', quiet=True)\n",
        "nltk.download('punkt', quiet=True)\n",
        "\n",
        "# Use Matplotlib style sheet\n",
        "plt.style.use('ggplot')"
      ],
      "execution_count": 11,
      "outputs": []
    },
    {
      "cell_type": "markdown",
      "metadata": {
        "id": "BLjq_kogSqMW"
      },
      "source": [
        "### Import Data"
      ]
    },
    {
      "cell_type": "code",
      "metadata": {
        "colab": {
          "base_uri": "https://localhost:8080/",
          "height": 359
        },
        "id": "1AWAHID0SqMX",
        "outputId": "cfe3cffc-a00b-4e41-b289-da2afbda1e24"
      },
      "source": [
        "df = pd.read_csv('Iliad.txt',sep='\\t')\\\n",
        "    .dropna()\\\n",
        "    .drop('gutenberg_id', 1)\n",
        "\n",
        "df.head(10)"
      ],
      "execution_count": 13,
      "outputs": [
        {
          "output_type": "execute_result",
          "data": {
            "text/html": [
              "<div>\n",
              "<style scoped>\n",
              "    .dataframe tbody tr th:only-of-type {\n",
              "        vertical-align: middle;\n",
              "    }\n",
              "\n",
              "    .dataframe tbody tr th {\n",
              "        vertical-align: top;\n",
              "    }\n",
              "\n",
              "    .dataframe thead th {\n",
              "        text-align: right;\n",
              "    }\n",
              "</style>\n",
              "<table border=\"1\" class=\"dataframe\">\n",
              "  <thead>\n",
              "    <tr style=\"text-align: right;\">\n",
              "      <th></th>\n",
              "      <th>text</th>\n",
              "    </tr>\n",
              "  </thead>\n",
              "  <tbody>\n",
              "    <tr>\n",
              "      <th>0</th>\n",
              "      <td>THE ILIAD OF HOMER</td>\n",
              "    </tr>\n",
              "    <tr>\n",
              "      <th>2</th>\n",
              "      <td>RENDERED INTO ENGLISH BLANK VERSE.</td>\n",
              "    </tr>\n",
              "    <tr>\n",
              "      <th>3</th>\n",
              "      <td>BY</td>\n",
              "    </tr>\n",
              "    <tr>\n",
              "      <th>5</th>\n",
              "      <td>EDWARD EARL OF DERBY.</td>\n",
              "    </tr>\n",
              "    <tr>\n",
              "      <th>10</th>\n",
              "      <td>PREFACE.</td>\n",
              "    </tr>\n",
              "    <tr>\n",
              "      <th>13</th>\n",
              "      <td>In the spring of 1862 I was induced, at the re...</td>\n",
              "    </tr>\n",
              "    <tr>\n",
              "      <th>14</th>\n",
              "      <td>friends, to print, for private circulation onl...</td>\n",
              "    </tr>\n",
              "    <tr>\n",
              "      <th>15</th>\n",
              "      <td>\"Translations of Poems Ancient and Modern,\" in...</td>\n",
              "    </tr>\n",
              "    <tr>\n",
              "      <th>16</th>\n",
              "      <td>first Book of the Iliad. The opinions expresse...</td>\n",
              "    </tr>\n",
              "    <tr>\n",
              "      <th>17</th>\n",
              "      <td>judges of the degree of success which had atte...</td>\n",
              "    </tr>\n",
              "  </tbody>\n",
              "</table>\n",
              "</div>"
            ],
            "text/plain": [
              "                                                 text\n",
              "0                                  THE ILIAD OF HOMER\n",
              "2                  RENDERED INTO ENGLISH BLANK VERSE.\n",
              "3                                                  BY\n",
              "5                               EDWARD EARL OF DERBY.\n",
              "10                                           PREFACE.\n",
              "13  In the spring of 1862 I was induced, at the re...\n",
              "14  friends, to print, for private circulation onl...\n",
              "15  \"Translations of Poems Ancient and Modern,\" in...\n",
              "16  first Book of the Iliad. The opinions expresse...\n",
              "17  judges of the degree of success which had atte..."
            ]
          },
          "metadata": {},
          "execution_count": 13
        }
      ]
    },
    {
      "cell_type": "markdown",
      "metadata": {
        "id": "7FMMPqy4SqMY"
      },
      "source": [
        "## DATA Prep\n",
        "\n",
        "\n",
        "### Add Line Numbers\n",
        "\n",
        "- These numbers will be used to divide the text into sections."
      ]
    },
    {
      "cell_type": "code",
      "metadata": {
        "colab": {
          "base_uri": "https://localhost:8080/",
          "height": 204
        },
        "id": "fUMnGBu3SqMZ",
        "outputId": "aa5fb860-41b2-4af1-e8bc-6d4703bbabe6"
      },
      "source": [
        "df['line'] = range(1, len(df) + 1)\n",
        "\n",
        "df.head()"
      ],
      "execution_count": 14,
      "outputs": [
        {
          "output_type": "execute_result",
          "data": {
            "text/html": [
              "<div>\n",
              "<style scoped>\n",
              "    .dataframe tbody tr th:only-of-type {\n",
              "        vertical-align: middle;\n",
              "    }\n",
              "\n",
              "    .dataframe tbody tr th {\n",
              "        vertical-align: top;\n",
              "    }\n",
              "\n",
              "    .dataframe thead th {\n",
              "        text-align: right;\n",
              "    }\n",
              "</style>\n",
              "<table border=\"1\" class=\"dataframe\">\n",
              "  <thead>\n",
              "    <tr style=\"text-align: right;\">\n",
              "      <th></th>\n",
              "      <th>text</th>\n",
              "      <th>line</th>\n",
              "    </tr>\n",
              "  </thead>\n",
              "  <tbody>\n",
              "    <tr>\n",
              "      <th>0</th>\n",
              "      <td>THE ILIAD OF HOMER</td>\n",
              "      <td>1</td>\n",
              "    </tr>\n",
              "    <tr>\n",
              "      <th>2</th>\n",
              "      <td>RENDERED INTO ENGLISH BLANK VERSE.</td>\n",
              "      <td>2</td>\n",
              "    </tr>\n",
              "    <tr>\n",
              "      <th>3</th>\n",
              "      <td>BY</td>\n",
              "      <td>3</td>\n",
              "    </tr>\n",
              "    <tr>\n",
              "      <th>5</th>\n",
              "      <td>EDWARD EARL OF DERBY.</td>\n",
              "      <td>4</td>\n",
              "    </tr>\n",
              "    <tr>\n",
              "      <th>10</th>\n",
              "      <td>PREFACE.</td>\n",
              "      <td>5</td>\n",
              "    </tr>\n",
              "  </tbody>\n",
              "</table>\n",
              "</div>"
            ],
            "text/plain": [
              "                                  text  line\n",
              "0                   THE ILIAD OF HOMER     1\n",
              "2   RENDERED INTO ENGLISH BLANK VERSE.     2\n",
              "3                                   BY     3\n",
              "5                EDWARD EARL OF DERBY.     4\n",
              "10                            PREFACE.     5"
            ]
          },
          "metadata": {},
          "execution_count": 14
        }
      ]
    },
    {
      "cell_type": "markdown",
      "metadata": {
        "id": "YXjJGfLiSqMZ"
      },
      "source": [
        "### Tokenize the Data"
      ]
    },
    {
      "cell_type": "code",
      "metadata": {
        "colab": {
          "base_uri": "https://localhost:8080/",
          "height": 204
        },
        "id": "0U2wkM92SqMa",
        "outputId": "eb67d40e-a63f-47f9-ed7c-b6b35698eb11"
      },
      "source": [
        "def clean_text(text):\n",
        "    text = text.lower()  # Convert all text to lowercase\n",
        "    text = text.replace(\"'\", '')\n",
        "    text = re.sub(r'[^\\w]', ' ', text)  # Leave only word characters\n",
        "    text = re.sub(r'\\s+', ' ', text)  # Omit extra space characters\n",
        "    text = text.strip()\n",
        "    return text\n",
        "\n",
        "df['text'] = df['text'].map(clean_text) \n",
        "df['text'] = df['text'].map(word_tokenize) # Split text into word tokens\n",
        "\n",
        "df.head()"
      ],
      "execution_count": 15,
      "outputs": [
        {
          "output_type": "execute_result",
          "data": {
            "text/html": [
              "<div>\n",
              "<style scoped>\n",
              "    .dataframe tbody tr th:only-of-type {\n",
              "        vertical-align: middle;\n",
              "    }\n",
              "\n",
              "    .dataframe tbody tr th {\n",
              "        vertical-align: top;\n",
              "    }\n",
              "\n",
              "    .dataframe thead th {\n",
              "        text-align: right;\n",
              "    }\n",
              "</style>\n",
              "<table border=\"1\" class=\"dataframe\">\n",
              "  <thead>\n",
              "    <tr style=\"text-align: right;\">\n",
              "      <th></th>\n",
              "      <th>text</th>\n",
              "      <th>line</th>\n",
              "    </tr>\n",
              "  </thead>\n",
              "  <tbody>\n",
              "    <tr>\n",
              "      <th>0</th>\n",
              "      <td>[the, iliad, of, homer]</td>\n",
              "      <td>1</td>\n",
              "    </tr>\n",
              "    <tr>\n",
              "      <th>2</th>\n",
              "      <td>[rendered, into, english, blank, verse]</td>\n",
              "      <td>2</td>\n",
              "    </tr>\n",
              "    <tr>\n",
              "      <th>3</th>\n",
              "      <td>[by]</td>\n",
              "      <td>3</td>\n",
              "    </tr>\n",
              "    <tr>\n",
              "      <th>5</th>\n",
              "      <td>[edward, earl, of, derby]</td>\n",
              "      <td>4</td>\n",
              "    </tr>\n",
              "    <tr>\n",
              "      <th>10</th>\n",
              "      <td>[preface]</td>\n",
              "      <td>5</td>\n",
              "    </tr>\n",
              "  </tbody>\n",
              "</table>\n",
              "</div>"
            ],
            "text/plain": [
              "                                       text  line\n",
              "0                   [the, iliad, of, homer]     1\n",
              "2   [rendered, into, english, blank, verse]     2\n",
              "3                                      [by]     3\n",
              "5                 [edward, earl, of, derby]     4\n",
              "10                                [preface]     5"
            ]
          },
          "metadata": {},
          "execution_count": 15
        }
      ]
    },
    {
      "cell_type": "markdown",
      "metadata": {
        "id": "F-WfvJmuSqMa"
      },
      "source": [
        "### Collect Tokens into a Single Series"
      ]
    },
    {
      "cell_type": "code",
      "metadata": {
        "colab": {
          "base_uri": "https://localhost:8080/",
          "height": 359
        },
        "id": "gknNmtBCSqMa",
        "outputId": "e8a50e1e-ed73-4f34-ca49-c4a617bfee57"
      },
      "source": [
        "df = df.explode('text').rename(columns={'text': 'token'})\n",
        "\n",
        "df.head(10)"
      ],
      "execution_count": 16,
      "outputs": [
        {
          "output_type": "execute_result",
          "data": {
            "text/html": [
              "<div>\n",
              "<style scoped>\n",
              "    .dataframe tbody tr th:only-of-type {\n",
              "        vertical-align: middle;\n",
              "    }\n",
              "\n",
              "    .dataframe tbody tr th {\n",
              "        vertical-align: top;\n",
              "    }\n",
              "\n",
              "    .dataframe thead th {\n",
              "        text-align: right;\n",
              "    }\n",
              "</style>\n",
              "<table border=\"1\" class=\"dataframe\">\n",
              "  <thead>\n",
              "    <tr style=\"text-align: right;\">\n",
              "      <th></th>\n",
              "      <th>token</th>\n",
              "      <th>line</th>\n",
              "    </tr>\n",
              "  </thead>\n",
              "  <tbody>\n",
              "    <tr>\n",
              "      <th>0</th>\n",
              "      <td>the</td>\n",
              "      <td>1</td>\n",
              "    </tr>\n",
              "    <tr>\n",
              "      <th>0</th>\n",
              "      <td>iliad</td>\n",
              "      <td>1</td>\n",
              "    </tr>\n",
              "    <tr>\n",
              "      <th>0</th>\n",
              "      <td>of</td>\n",
              "      <td>1</td>\n",
              "    </tr>\n",
              "    <tr>\n",
              "      <th>0</th>\n",
              "      <td>homer</td>\n",
              "      <td>1</td>\n",
              "    </tr>\n",
              "    <tr>\n",
              "      <th>2</th>\n",
              "      <td>rendered</td>\n",
              "      <td>2</td>\n",
              "    </tr>\n",
              "    <tr>\n",
              "      <th>2</th>\n",
              "      <td>into</td>\n",
              "      <td>2</td>\n",
              "    </tr>\n",
              "    <tr>\n",
              "      <th>2</th>\n",
              "      <td>english</td>\n",
              "      <td>2</td>\n",
              "    </tr>\n",
              "    <tr>\n",
              "      <th>2</th>\n",
              "      <td>blank</td>\n",
              "      <td>2</td>\n",
              "    </tr>\n",
              "    <tr>\n",
              "      <th>2</th>\n",
              "      <td>verse</td>\n",
              "      <td>2</td>\n",
              "    </tr>\n",
              "    <tr>\n",
              "      <th>3</th>\n",
              "      <td>by</td>\n",
              "      <td>3</td>\n",
              "    </tr>\n",
              "  </tbody>\n",
              "</table>\n",
              "</div>"
            ],
            "text/plain": [
              "      token  line\n",
              "0       the     1\n",
              "0     iliad     1\n",
              "0        of     1\n",
              "0     homer     1\n",
              "2  rendered     2\n",
              "2      into     2\n",
              "2   english     2\n",
              "2     blank     2\n",
              "2     verse     2\n",
              "3        by     3"
            ]
          },
          "metadata": {},
          "execution_count": 16
        }
      ]
    },
    {
      "cell_type": "markdown",
      "metadata": {
        "id": "Pd4Hj2jqSqMa"
      },
      "source": [
        "## SCORE SENTIMENTS\n",
        "\n",
        "- Calculate sentiment scores using the AFINN lexicon, which scores words on a scale of -5 (most negative) to +5 (most positive)."
      ]
    },
    {
      "cell_type": "code",
      "metadata": {
        "id": "v5DZ8scoSqMb"
      },
      "source": [
        "afinn_scorer = Afinn()\n",
        "\n",
        "df['score'] = df['token'].map(afinn_scorer.score).astype(int)\n",
        "df = df[df['score'] != 0]"
      ],
      "execution_count": 17,
      "outputs": []
    },
    {
      "cell_type": "markdown",
      "metadata": {
        "id": "RFJce7KpSqMb"
      },
      "source": [
        "- Show a frequency table for the sentiment scores."
      ]
    },
    {
      "cell_type": "code",
      "metadata": {
        "colab": {
          "base_uri": "https://localhost:8080/",
          "height": 328
        },
        "id": "0jFL78HISqMb",
        "outputId": "3311d715-4180-4c06-da92-c6433def9945"
      },
      "source": [
        "score_freq = df.score.value_counts().sort_index().to_frame('n')\n",
        "\n",
        "score_freq"
      ],
      "execution_count": 18,
      "outputs": [
        {
          "output_type": "execute_result",
          "data": {
            "text/html": [
              "<div>\n",
              "<style scoped>\n",
              "    .dataframe tbody tr th:only-of-type {\n",
              "        vertical-align: middle;\n",
              "    }\n",
              "\n",
              "    .dataframe tbody tr th {\n",
              "        vertical-align: top;\n",
              "    }\n",
              "\n",
              "    .dataframe thead th {\n",
              "        text-align: right;\n",
              "    }\n",
              "</style>\n",
              "<table border=\"1\" class=\"dataframe\">\n",
              "  <thead>\n",
              "    <tr style=\"text-align: right;\">\n",
              "      <th></th>\n",
              "      <th>n</th>\n",
              "    </tr>\n",
              "  </thead>\n",
              "  <tbody>\n",
              "    <tr>\n",
              "      <th>-5</th>\n",
              "      <td>12</td>\n",
              "    </tr>\n",
              "    <tr>\n",
              "      <th>-4</th>\n",
              "      <td>9</td>\n",
              "    </tr>\n",
              "    <tr>\n",
              "      <th>-3</th>\n",
              "      <td>817</td>\n",
              "    </tr>\n",
              "    <tr>\n",
              "      <th>-2</th>\n",
              "      <td>2612</td>\n",
              "    </tr>\n",
              "    <tr>\n",
              "      <th>-1</th>\n",
              "      <td>1679</td>\n",
              "    </tr>\n",
              "    <tr>\n",
              "      <th>1</th>\n",
              "      <td>1269</td>\n",
              "    </tr>\n",
              "    <tr>\n",
              "      <th>2</th>\n",
              "      <td>2590</td>\n",
              "    </tr>\n",
              "    <tr>\n",
              "      <th>3</th>\n",
              "      <td>759</td>\n",
              "    </tr>\n",
              "    <tr>\n",
              "      <th>4</th>\n",
              "      <td>110</td>\n",
              "    </tr>\n",
              "  </tbody>\n",
              "</table>\n",
              "</div>"
            ],
            "text/plain": [
              "       n\n",
              "-5    12\n",
              "-4     9\n",
              "-3   817\n",
              "-2  2612\n",
              "-1  1679\n",
              " 1  1269\n",
              " 2  2590\n",
              " 3   759\n",
              " 4   110"
            ]
          },
          "metadata": {},
          "execution_count": 18
        }
      ]
    },
    {
      "cell_type": "markdown",
      "metadata": {
        "id": "WXm-K_C2SqMe"
      },
      "source": [
        "## Graph Score Frequencies"
      ]
    },
    {
      "cell_type": "code",
      "metadata": {
        "colab": {
          "base_uri": "https://localhost:8080/",
          "height": 299
        },
        "id": "6uJnKSbNSqMe",
        "outputId": "3011eb70-814b-4e18-9f88-663876f38ebd"
      },
      "source": [
        "score_freq.plot.bar(\n",
        "    legend=False,\n",
        "    figsize=(8, 4),\n",
        "    grid=True,\n",
        "    color='gray')\n",
        "plt.xlabel('Sentiment Score')\n",
        "plt.ylabel('Frequency of Words')\n",
        "plt.title('The Iliad: Sentiment Scores by Words', loc='left')\n",
        "plt.xticks(rotation=0);"
      ],
      "execution_count": 19,
      "outputs": [
        {
          "output_type": "display_data",
          "data": {
            "image/png": "[encoded data removed]",
            "text/plain": [
              "<Figure size 576x288 with 1 Axes>"
            ]
          },
          "metadata": {}
        }
      ]
    },
    {
      "cell_type": "markdown",
      "metadata": {
        "id": "UBAZAGLvSqMe"
      },
      "source": [
        "## SENTIMENT ARC\n",
        "\n",
        "- Divide the text into sections of 100 lines and calculate a sentiment score for each section."
      ]
    },
    {
      "cell_type": "code",
      "metadata": {
        "colab": {
          "base_uri": "https://localhost:8080/",
          "height": 390
        },
        "id": "8m-Xq8OJSqMe",
        "outputId": "efdb4f7b-d419-4d6e-f346-1377c2657ab7"
      },
      "source": [
        "score_acc = df.groupby(df['line'] // 100)\\\n",
        "    .score.mean()\\\n",
        "    .to_frame('score')\\\n",
        "    .rename_axis('section')\n",
        "\n",
        "score_acc.head(10)"
      ],
      "execution_count": 20,
      "outputs": [
        {
          "output_type": "execute_result",
          "data": {
            "text/html": [
              "<div>\n",
              "<style scoped>\n",
              "    .dataframe tbody tr th:only-of-type {\n",
              "        vertical-align: middle;\n",
              "    }\n",
              "\n",
              "    .dataframe tbody tr th {\n",
              "        vertical-align: top;\n",
              "    }\n",
              "\n",
              "    .dataframe thead th {\n",
              "        text-align: right;\n",
              "    }\n",
              "</style>\n",
              "<table border=\"1\" class=\"dataframe\">\n",
              "  <thead>\n",
              "    <tr style=\"text-align: right;\">\n",
              "      <th></th>\n",
              "      <th>score</th>\n",
              "    </tr>\n",
              "    <tr>\n",
              "      <th>section</th>\n",
              "      <th></th>\n",
              "    </tr>\n",
              "  </thead>\n",
              "  <tbody>\n",
              "    <tr>\n",
              "      <th>0</th>\n",
              "      <td>0.805970</td>\n",
              "    </tr>\n",
              "    <tr>\n",
              "      <th>1</th>\n",
              "      <td>-0.396825</td>\n",
              "    </tr>\n",
              "    <tr>\n",
              "      <th>2</th>\n",
              "      <td>-0.153846</td>\n",
              "    </tr>\n",
              "    <tr>\n",
              "      <th>3</th>\n",
              "      <td>0.306452</td>\n",
              "    </tr>\n",
              "    <tr>\n",
              "      <th>4</th>\n",
              "      <td>-0.244444</td>\n",
              "    </tr>\n",
              "    <tr>\n",
              "      <th>5</th>\n",
              "      <td>-0.142857</td>\n",
              "    </tr>\n",
              "    <tr>\n",
              "      <th>6</th>\n",
              "      <td>-0.150943</td>\n",
              "    </tr>\n",
              "    <tr>\n",
              "      <th>7</th>\n",
              "      <td>0.060000</td>\n",
              "    </tr>\n",
              "    <tr>\n",
              "      <th>8</th>\n",
              "      <td>-0.175439</td>\n",
              "    </tr>\n",
              "    <tr>\n",
              "      <th>9</th>\n",
              "      <td>0.782609</td>\n",
              "    </tr>\n",
              "  </tbody>\n",
              "</table>\n",
              "</div>"
            ],
            "text/plain": [
              "            score\n",
              "section          \n",
              "0        0.805970\n",
              "1       -0.396825\n",
              "2       -0.153846\n",
              "3        0.306452\n",
              "4       -0.244444\n",
              "5       -0.142857\n",
              "6       -0.150943\n",
              "7        0.060000\n",
              "8       -0.175439\n",
              "9        0.782609"
            ]
          },
          "metadata": {},
          "execution_count": 20
        }
      ]
    },
    {
      "cell_type": "markdown",
      "metadata": {
        "id": "58qrhr9-SqMf"
      },
      "source": [
        "### Plot Scores by Section to View Narrative Arc"
      ]
    },
    {
      "cell_type": "code",
      "metadata": {
        "colab": {
          "base_uri": "https://localhost:8080/",
          "height": 428
        },
        "id": "Sd_wwl1WSqMf",
        "outputId": "4927ed60-e212-46de-f241-3c6a152a6502"
      },
      "source": [
        "ax = score_acc.plot.line(legend=False, figsize=(12, 6), grid=True, alpha=0.5, color='gray')\n",
        "score_acc.rolling(10, min_periods=5).mean().plot.line(ax=ax, color='black')\n",
        "plt.xlabel('Section of 100 Lines')\n",
        "plt.ylabel('Mean Sentiment Score')\n",
        "plt.title('The Iliad: Mean Sentiment Score by Section', loc='left')\n",
        "plt.axhline(0, color='red')\n",
        "plt.xticks(rotation=0);"
      ],
      "execution_count": 21,
      "outputs": [
        {
          "output_type": "display_data",
          "data": {
            "image/png": "[encoded data removed]",
            "text/plain": [
              "<Figure size 864x432 with 1 Axes>"
            ]
          },
          "metadata": {}
        }
      ]
    },
    {
      "cell_type": "markdown",
      "metadata": {
        "id": "XtKD4jy1Uqko"
      },
      "source": [
        "Being a battle tale, it does hover very close to neutral often dipping into negative sentiment, with some positive beginnings but eventually ending sad."
      ]
    },
    {
      "cell_type": "code",
      "metadata": {
        "id": "B7bCfUiSUzk2"
      },
      "source": [
        ""
      ],
      "execution_count": null,
      "outputs": []
    }
  ]
}